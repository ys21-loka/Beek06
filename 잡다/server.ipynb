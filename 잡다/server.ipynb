{
 "cells": [
  {
   "cell_type": "code",
   "execution_count": 1,
   "metadata": {
    "ExecuteTime": {
     "end_time": "2020-02-11T05:41:58.035063Z",
     "start_time": "2020-02-11T05:41:58.032063Z"
    }
   },
   "outputs": [],
   "source": [
    "import socket\n",
    "from datetime import datetime\n",
    "import subprocess"
   ]
  },
  {
   "cell_type": "code",
   "execution_count": null,
   "metadata": {
    "ExecuteTime": {
     "start_time": "2020-02-11T01:37:47.690Z"
    }
   },
   "outputs": [
    {
     "name": "stdout",
     "output_type": "stream",
     "text": [
      "listening\n"
     ]
    }
   ],
   "source": [
    "server_socket = socket.socket(socket.AF_INET, socket.SOCK_STREAM)\n",
    "\n",
    "server_socket.bind(('localhost', 12345))\n",
    "server_socket.listen(0)\n",
    "print(\"listening\")\n",
    "client_socket, addr = server_socket.accept()\n",
    "print(\"accepting\")\n",
    "data = client_socket.recv(65535)\n",
    "\n",
    "print(\"receive : \" + data.decode())\n",
    "\n",
    "client_socket.send(data)\n",
    "print(\"sned data\")\n",
    "client_socket.close()\n",
    "print(\"종료\")"
   ]
  },
  {
   "cell_type": "code",
   "execution_count": 3,
   "metadata": {
    "ExecuteTime": {
     "end_time": "2020-02-11T01:38:24.915497Z",
     "start_time": "2020-02-11T01:38:19.812091Z"
    },
    "scrolled": true
   },
   "outputs": [
    {
     "name": "stdout",
     "output_type": "stream",
     "text": [
      "listening\n",
      "accepting\n",
      "receive : POST / HTTP/1.1\n",
      "Host: 127.0.0.1:82\n",
      "Connection: keep-alive\n",
      "Content-Length: 9\n",
      "Cache-Control: max-age=0\n",
      "Upgrade-Insecure-Requests: 1\n",
      "Origin: null\n",
      "Content-Type: application/x-www-form-urlencoded\n",
      "User-Agent: Mozilla/5.0 (Windows NT 10.0; Win64; x64) AppleWebKit/537.36 (KHTML, like Gecko) Chrome/80.0.3987.87 Safari/537.36\n",
      "Sec-Fetch-Dest: document\n",
      "Accept: text/html,application/xhtml+xml,application/xml;q=0.9,image/webp,image/apng,*/*;q=0.8,application/signed-exchange;v=b3;q=0.9\n",
      "Sec-Fetch-Site: cross-site\n",
      "Sec-Fetch-Mode: navigate\n",
      "Sec-Fetch-User: ?1\n",
      "Accept-Encoding: gzip, deflate, br\n",
      "Accept-Language: ko,en;q=0.9,en-US;q=0.8\n",
      "Cookie: username-127-0-0-1-8080=\"2|1:0|10:1578964391|23:username-127-0-0-1-8080|44:ZWY1OTc3ZmQ4MDE1NDIzZTkxYjc2NjlmYzNkZjUyZWQ=|51d914f01b092eece9089d16f8ebe9a46d38d85d07507148051c11e13f82aa9f\"\n",
      "\n",
      "id=hello2\n"
     ]
    }
   ],
   "source": [
    "# simple http server\n",
    "server_socket = socket.socket(socket.AF_INET, socket.SOCK_STREAM)\n",
    "\n",
    "server_socket.bind(('localhost', 82))\n",
    "server_socket.listen(0)\n",
    "print(\"listening\")\n",
    "client_socket, addr = server_socket.accept()\n",
    "print(\"accepting\")\n",
    "data = client_socket.recv(65535)\n",
    "\n",
    "print(\"receive : \" + data.decode())\n",
    "client_socket.close()"
   ]
  },
  {
   "cell_type": "code",
   "execution_count": 7,
   "metadata": {
    "ExecuteTime": {
     "end_time": "2020-02-11T01:49:56.417698Z",
     "start_time": "2020-02-11T01:49:49.458814Z"
    }
   },
   "outputs": [
    {
     "name": "stdout",
     "output_type": "stream",
     "text": [
      "listening\n",
      "accepting\n",
      "receive : GET / HTTP/1.1\n",
      "Host: 127.0.0.1:82\n",
      "Connection: keep-alive\n",
      "Cache-Control: max-age=0\n",
      "Upgrade-Insecure-Requests: 1\n",
      "User-Agent: Mozilla/5.0 (Windows NT 10.0; Win64; x64) AppleWebKit/537.36 (KHTML, like Gecko) Chrome/80.0.3987.87 Safari/537.36\n",
      "Sec-Fetch-Dest: document\n",
      "Accept: text/html,application/xhtml+xml,application/xml;q=0.9,image/webp,image/apng,*/*;q=0.8,application/signed-exchange;v=b3;q=0.9\n",
      "Sec-Fetch-Site: none\n",
      "Sec-Fetch-Mode: navigate\n",
      "Sec-Fetch-User: ?1\n",
      "Accept-Encoding: gzip, deflate, br\n",
      "Accept-Language: ko,en;q=0.9,en-US;q=0.8\n",
      "Cookie: username-127-0-0-1-8080=\"2|1:0|10:1578964391|23:username-127-0-0-1-8080|44:ZWY1OTc3ZmQ4MDE1NDIzZTkxYjc2NjlmYzNkZjUyZWQ=|51d914f01b092eece9089d16f8ebe9a46d38d85d07507148051c11e13f82aa9f\"\n",
      "\n",
      "\n"
     ]
    }
   ],
   "source": [
    "# simple http server\n",
    "server_socket = socket.socket(socket.AF_INET, socket.SOCK_STREAM)\n",
    "\n",
    "server_socket.bind(('localhost', 82))\n",
    "server_socket.listen(0)\n",
    "print(\"listening\")\n",
    "client_socket, addr = server_socket.accept()\n",
    "print(\"accepting\")\n",
    "data = client_socket.recv(65535)\n",
    "\n",
    "print(\"receive : \" + data.decode())\n",
    "\n",
    "client_socket.send('HTTP/1.0 200 OK\\r\\n\\r\\n<font color=red>Hello</font>'.encode(\"utf-8\"))\n",
    "\n",
    "client_socket.close()"
   ]
  },
  {
   "cell_type": "code",
   "execution_count": 4,
   "metadata": {
    "ExecuteTime": {
     "end_time": "2020-02-11T02:31:58.564476Z",
     "start_time": "2020-02-11T02:31:43.235362Z"
    }
   },
   "outputs": [
    {
     "name": "stdout",
     "output_type": "stream",
     "text": [
      "listening\n",
      "accepting\n",
      "GET /fwefe/fewfewf/fef/index.html HTTP/1.1\n",
      "/fwefe/fewfewf/fef/index.html\n"
     ]
    }
   ],
   "source": [
    "server_socket = socket.socket(socket.AF_INET, socket.SOCK_STREAM)\n",
    "\n",
    "server_socket.bind(('localhost', 82))\n",
    "server_socket.listen(0)\n",
    "print(\"listening\")\n",
    "\n",
    "if True :\n",
    "    client_socket, addr = server_socket.accept()\n",
    "    print(\"accepting\")\n",
    "    data = client_socket.recv(65535)\n",
    "    data = data.decode()\n",
    "    \n",
    "    headers = data.split(\"\\r\\n\")\n",
    "    print(headers[0])\n",
    "    print(headers[0].split(\" \")[1])\n",
    "    \n",
    "    client_socket.send('HTTP/1.0 200 OK\\r\\n\\r\\n<font color=red>Hello</font>'.encode(\"utf-8\"))\n",
    "    client_socket.close()"
   ]
  },
  {
   "cell_type": "code",
   "execution_count": null,
   "metadata": {
    "ExecuteTime": {
     "start_time": "2020-02-11T02:10:34.933Z"
    }
   },
   "outputs": [],
   "source": [
    "server_socket = socket.socket(socket.AF_INET, socket.SOCK_STREAM)\n",
    "\n",
    "server_socket.bind(('localhost', 82))\n",
    "server_socket.listen(0)\n",
    "print(\"listening\")\n",
    "\n",
    "while True :\n",
    "    client_socket, addr = server_socket.accept()\n",
    "    print(\"accepting\")\n",
    "    data = client_socket.recv(65535)\n",
    "    print(\"receive : \" + data.decode())\n",
    "    \n",
    "    header = 'HTTP/1.0 200 OK\\r\\n\\r\\n'    \n",
    "    html = \"hello\" + str(datetime.now())\n",
    "    client_socket.send(header.encode(\"utf-8\"))\n",
    "    client_socket.send(html.encode(\"utf-8\"))\n",
    "    client_socket.close()"
   ]
  },
  {
   "cell_type": "code",
   "execution_count": null,
   "metadata": {},
   "outputs": [],
   "source": [
    "server_socket = socket.socket(socket.AF_INET, socket.SOCK_STREAM)\n",
    "\n",
    "server_socket.bind(('localhost', 82))\n",
    "server_socket.listen(0)\n",
    "print(\"listening\")\n",
    "\n",
    "while True :\n",
    "    client_socket, addr = server_socket.accept()\n",
    "    print(\"accepting\")\n",
    "    data = client_socket.recv(65535)\n",
    "    print(\"receive : \" + data.decode())\n",
    "    \n",
    "    header = 'HTTP/1.0 200 OK\\r\\n\\r\\n'    \n",
    "    html = open()\n",
    "    client_socket.send(header.encode(\"utf-8\"))\n",
    "    client_socket.send(html.encode(\"utf-8\"))\n",
    "    client_socket.close()"
   ]
  },
  {
   "cell_type": "code",
   "execution_count": 10,
   "metadata": {
    "ExecuteTime": {
     "end_time": "2020-02-11T02:38:42.678105Z",
     "start_time": "2020-02-11T02:38:42.673106Z"
    }
   },
   "outputs": [
    {
     "name": "stdout",
     "output_type": "stream",
     "text": [
      "<font color=red> My Web Server</font>\n",
      "\n",
      "\n"
     ]
    }
   ],
   "source": [
    "filename = \"/index2.html\"\n",
    "\n",
    "file = open(\".\"+ filename, 'rt', encoding='utf-8')\n",
    "\n",
    "print(file.read())\n",
    "\n"
   ]
  },
  {
   "cell_type": "code",
   "execution_count": 15,
   "metadata": {
    "ExecuteTime": {
     "end_time": "2020-02-11T02:49:50.065836Z",
     "start_time": "2020-02-11T02:49:48.079441Z"
    }
   },
   "outputs": [
    {
     "name": "stdout",
     "output_type": "stream",
     "text": [
      "listening\n",
      "accepting\n"
     ]
    }
   ],
   "source": [
    "server_socket = socket.socket(socket.AF_INET, socket.SOCK_STREAM)\n",
    "\n",
    "server_socket.bind(('localhost', 82))\n",
    "server_socket.listen(0)\n",
    "print(\"listening\")\n",
    "\n",
    "if  True :\n",
    "    client_socket, addr = server_socket.accept()\n",
    "    print(\"accepting\")\n",
    "    data = client_socket.recv(65535)    \n",
    "    data = data.decode()\n",
    "    \n",
    "    headers = data.split(\"\\r\\n\")\n",
    "    filename = headers[0].split(\" \")[1]\n",
    "    \n",
    "    \n",
    "    file = open(\".\"+ filename, 'rt', encoding='utf-8')\n",
    "    html = file.read()\n",
    "    \n",
    "    header = 'HTTP/1.0 200 OK\\r\\n\\r\\n'    \n",
    "    \n",
    "    client_socket.send(header.encode(\"utf-8\"))\n",
    "    client_socket.send(html.encode(\"utf-8\"))\n",
    "    client_socket.close()"
   ]
  },
  {
   "cell_type": "code",
   "execution_count": 6,
   "metadata": {
    "ExecuteTime": {
     "end_time": "2020-02-11T05:49:57.870700Z",
     "start_time": "2020-02-11T05:49:50.404334Z"
    },
    "scrolled": true
   },
   "outputs": [
    {
     "name": "stdout",
     "output_type": "stream",
     "text": [
      "listening\n",
      "accepting\n"
     ]
    }
   ],
   "source": [
    "import socket\n",
    "\n",
    "server_socket = socket.socket(socket.AF_INET, socket.SOCK_STREAM)\n",
    "\n",
    "server_socket.bind(('localhost', 82))\n",
    "server_socket.listen(0)\n",
    "print(\"listening\")\n",
    "\n",
    "if  True :\n",
    "    client_socket, addr = server_socket.accept()\n",
    "    print(\"accepting\")\n",
    "    data = client_socket.recv(65535)    \n",
    "    data = data.decode()\n",
    "    #print(data)        \n",
    "    \n",
    "    try :    \n",
    "        headers = data.split(\"\\r\\n\")\n",
    "        filename = headers[0].split(\" \")[1]\n",
    "        \n",
    "        if '.py' in filename:\n",
    "            header = 'HTTP/1.0 200 OK\\r\\n\\r\\n'   \n",
    "            html = subprocess.check_output(['python.exe', '.' + filename])\n",
    "            html = html.decode('cp949')\n",
    "            client_socket.send(header.encode(\"utf-8\"))    \n",
    "            client_socket.send(html.encode(\"utf-8\"))            \n",
    "        elif '.html' in filename:\n",
    "            file = open(\".\"+ filename, 'rt', encoding='utf-8')\n",
    "            html = file.read()    \n",
    "            header = 'HTTP/1.0 200 OK\\r\\n\\r\\n'        \n",
    "            client_socket.send(header.encode(\"utf-8\"))\n",
    "            client_socket.send(html.encode(\"utf-8\"))\n",
    "        elif '.jpg' in filename or '.ico' in filename:         \n",
    "            client_socket.send('HTTP/1.1 200 OK\\r\\n'.encode())\n",
    "            client_socket.send(\"Content-Type: image/jpg\\r\\n\".encode())\n",
    "            client_socket.send(\"Accept-Ranges: bytes\\r\\n\\r\\n\".encode())\n",
    "            file = open(\".\" + filename, \"rb\")            \n",
    "            client_socket.send(file.read())  \n",
    "            file.close()               \n",
    "        else :\n",
    "            header = 'HTTP/1.0 404 File Not Found\\r\\n\\r\\n'        \n",
    "            client_socket.send(header.encode(\"utf-8\"))\n",
    "    except Exception as e :\n",
    "        print(e)         \n",
    "    client_socket.close()"
   ]
  },
  {
   "cell_type": "code",
   "execution_count": 5,
   "metadata": {
    "ExecuteTime": {
     "end_time": "2020-02-11T05:27:28.560600Z",
     "start_time": "2020-02-11T05:27:28.507630Z"
    }
   },
   "outputs": [
    {
     "name": "stdout",
     "output_type": "stream",
     "text": [
      "<class 'bytes'>\n",
      "b'a\\xb4\\xf5\\xc7\\xcf\\xb1\\xe2b\\r\\n30\\r\\n'\n",
      "a더하기b\r\n",
      "30\r\n",
      "\n"
     ]
    }
   ],
   "source": [
    "import subprocess\n",
    "\n",
    "output = subprocess.check_output(['python.exe', 'test.py'])\n",
    "print(type(output))\n",
    "print(output)\n",
    "print(output.decode('cp949'))"
   ]
  }
 ],
 "metadata": {
  "kernelspec": {
   "display_name": "Python 3",
   "language": "python",
   "name": "python3"
  },
  "language_info": {
   "codemirror_mode": {
    "name": "ipython",
    "version": 3
   },
   "file_extension": ".py",
   "mimetype": "text/x-python",
   "name": "python",
   "nbconvert_exporter": "python",
   "pygments_lexer": "ipython3",
   "version": "3.7.4"
  },
  "varInspector": {
   "cols": {
    "lenName": 16,
    "lenType": 16,
    "lenVar": 40
   },
   "kernels_config": {
    "python": {
     "delete_cmd_postfix": "",
     "delete_cmd_prefix": "del ",
     "library": "var_list.py",
     "varRefreshCmd": "print(var_dic_list())"
    },
    "r": {
     "delete_cmd_postfix": ") ",
     "delete_cmd_prefix": "rm(",
     "library": "var_list.r",
     "varRefreshCmd": "cat(var_dic_list()) "
    }
   },
   "types_to_exclude": [
    "module",
    "function",
    "builtin_function_or_method",
    "instance",
    "_Feature"
   ],
   "window_display": false
  }
 },
 "nbformat": 4,
 "nbformat_minor": 2
}
