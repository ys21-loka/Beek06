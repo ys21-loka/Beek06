{
 "cells": [
  {
   "cell_type": "code",
   "execution_count": 1,
   "metadata": {
    "ExecuteTime": {
     "end_time": "2020-02-11T08:24:13.175196Z",
     "start_time": "2020-02-11T08:24:13.171251Z"
    }
   },
   "outputs": [],
   "source": [
    "import socket\n",
    "from datetime import datetime\n",
    "import subprocess"
   ]
  },
  {
   "cell_type": "markdown",
   "metadata": {},
   "source": [
    "# 간단한 서버 구축"
   ]
  },
  {
   "cell_type": "markdown",
   "metadata": {
    "heading_collapsed": true
   },
   "source": [
    "## 기본"
   ]
  },
  {
   "cell_type": "code",
   "execution_count": null,
   "metadata": {
    "ExecuteTime": {
     "end_time": "2020-02-11T01:16:06.675114Z",
     "start_time": "2020-02-11T01:16:04.363974Z"
    },
    "hidden": true
   },
   "outputs": [],
   "source": [
    "server_socket = socket.socket(socket.AF_INET, socket.SOCK_STREAM)\n",
    "server_socket.bind(('localhost', 12345))\n",
    "server_socket.listen(0) # listen = 대기모드\n",
    "print('listening')\n",
    "client_socket, addr = server_socket.accept()\n",
    "print('accepting')\n",
    "data = client_socket.recv(65535) #데이터 송수신\n",
    "print(\"receive:\", data.decode())\n",
    "client_socket.send(data)\n",
    "print('send data')\n",
    "client_socket.close()\n",
    "print('종료')"
   ]
  },
  {
   "cell_type": "markdown",
   "metadata": {
    "heading_collapsed": true
   },
   "source": [
    "## simple HTTP server"
   ]
  },
  {
   "cell_type": "code",
   "execution_count": null,
   "metadata": {
    "ExecuteTime": {
     "end_time": "2020-02-11T01:49:20.330652Z",
     "start_time": "2020-02-11T01:49:10.546142Z"
    },
    "hidden": true
   },
   "outputs": [],
   "source": [
    "#simple http server\n",
    "server_socket = socket.socket(socket.AF_INET, socket.SOCK_STREAM)\n",
    "server_socket.bind(('localhost', 80))\n",
    "server_socket.listen(0)\n",
    "print('listening')\n",
    "client_socket, addr = server_socket.accept()\n",
    "print('accepting')\n",
    "data = client_socket.recv(65535)\n",
    "print(\"receive:\", data.decode())\n",
    "\n",
    "client_socket.send('HTTP/1.0.200 OK\\r\\n\\r\\n<font color=magenta>Hello</font>'.encode(\"utf-8\"))\n",
    "# \\r\\n\\r\\n 필수\n",
    "client_socket.close()"
   ]
  },
  {
   "cell_type": "code",
   "execution_count": null,
   "metadata": {
    "ExecuteTime": {
     "end_time": "2020-02-11T02:17:04.964871Z",
     "start_time": "2020-02-11T02:16:16.743918Z"
    },
    "hidden": true
   },
   "outputs": [],
   "source": [
    "server_socket = socket.socket(socket.AF_INET, socket.SOCK_STREAM)\n",
    "server_socket.bind(('localhost', 80))\n",
    "server_socket.listen(0)\n",
    "print('listening')\n",
    "\n",
    "while True:    # 기본적으로 작성하여 만든 서버는 1회성이기 때문에 루프를 통해 서버 상태 유지\n",
    "    client_socket, addr = server_socket.accept()\n",
    "    print('accepting')\n",
    "    data = client_socket.recv(65535)\n",
    "    print(\"receive:\", data.decode())\n",
    "\n",
    "    header = 'HTTP/1.0.200 OK\\r\\n\\r\\n'\n",
    "    html = \"hello\" + str(datetime.now())\n",
    "    client_socket.send(header.encode(\"utf-8\"))\n",
    "    client_socket.send(html.encode(\"utf-8\"))\n",
    "    client_socket.close()"
   ]
  },
  {
   "cell_type": "markdown",
   "metadata": {
    "heading_collapsed": true
   },
   "source": [
    "## file 요청 및 응답 (정적 file)"
   ]
  },
  {
   "cell_type": "markdown",
   "metadata": {
    "heading_collapsed": true,
    "hidden": true
   },
   "source": [
    "### file 요청 및 응답 기본"
   ]
  },
  {
   "cell_type": "code",
   "execution_count": null,
   "metadata": {
    "ExecuteTime": {
     "end_time": "2020-02-11T04:37:04.442962Z",
     "start_time": "2020-02-11T04:37:00.964201Z"
    },
    "hidden": true
   },
   "outputs": [],
   "source": [
    "server_socket = socket.socket(socket.AF_INET, socket.SOCK_STREAM)\n",
    "server_socket.bind(('localhost', 80))\n",
    "server_socket.listen(0)\n",
    "print('listening')\n",
    "\n",
    "if True:  # 테스트 시의 편의성을 위해 while -> if 로 교체하여 일회성 서버 구현\n",
    "    client_socket, addr = server_socket.accept()\n",
    "    print('accepting')\n",
    "    data = client_socket.recv(65535)\n",
    "    data = data.decode()\n",
    "\n",
    "    headers = data.split(\"\\r\\n\")  # 요청시 송수신 데이터의 가장 첫부분이 요청 파일\n",
    "    filename = headers[0].split(\" \")[1]  # 데이터 스플릿, 파일 명 추출\n",
    "    \n",
    "    if '.html' in filename or '.txt' in filename:\n",
    "        file = open(\".\" + filename, 'rt', encoding='utf-8')  # 절대경로 상대경로화\n",
    "        html = file.read()\n",
    "        header = 'HTTP/1.0.200 OK\\r\\n\\r\\n'\n",
    "        client_socket.send(header.encode(\"utf-8\"))\n",
    "        client_socket.send(html.encode(\"utf-8\"))\n",
    "        client_socket.close()\n",
    "        \n",
    "    elif '.jpg' in filename:\n",
    "        client_socket.send('HTTP/1.1 200 OK\\r\\n'.encode())\n",
    "        client_socket.send('Content-Type: image/jpg\\r\\n'.encode())\n",
    "        client_socket.send('Accept-Range: bytes\\r\\n\\r\\n'.encode())\n",
    "        file = open('.'+filename, 'rb')\n",
    "        client_socket.send(file.read())\n",
    "        file.close()\n",
    "        \n",
    "    elif '.png' in filename:\n",
    "        client_socket.send('HTTP/1.1 200 OK\\r\\n'.encode())\n",
    "        client_socket.send('Content-Type: image/png\\r\\n'.encode())\n",
    "        client_socket.send('Accept-Range: bytes\\r\\n\\r\\n'.encode())\n",
    "        file = open('.'+filename, 'rb')\n",
    "        client_socket.send(file.read())\n",
    "        file.close()\n",
    "    else:\n",
    "        header = 'HTTP/1.0. 404 File Not Found OK\\r\\n\\r\\n'\n",
    "        client_socket.send(header.encode(\"utf-8\"))\n",
    "    client_socket.close()"
   ]
  },
  {
   "cell_type": "code",
   "execution_count": null,
   "metadata": {
    "ExecuteTime": {
     "end_time": "2020-02-11T02:50:21.882705Z",
     "start_time": "2020-02-11T02:50:21.877719Z"
    },
    "hidden": true,
    "scrolled": false
   },
   "outputs": [],
   "source": [
    "filename = '/index.html'  # 절대경로이기 때문에 수정 필요\n",
    "# r : read, rt : read text, rb : read binary w : write\n",
    "file = open(\".\" + filename, 'rt', encoding='utf-8')\n",
    "print(file.read())"
   ]
  },
  {
   "cell_type": "markdown",
   "metadata": {
    "hidden": true
   },
   "source": [
    "### file 요청 및 응답 확장"
   ]
  },
  {
   "cell_type": "code",
   "execution_count": null,
   "metadata": {
    "ExecuteTime": {
     "end_time": "2020-02-11T04:58:13.963612Z",
     "start_time": "2020-02-11T04:58:06.163531Z"
    },
    "hidden": true
   },
   "outputs": [],
   "source": [
    "server_socket = socket.socket(socket.AF_INET, socket.SOCK_STREAM)\n",
    "server_socket.bind(('localhost', 80))\n",
    "server_socket.listen(0)\n",
    "print('listening')\n",
    "\n",
    "if True:  # 테스트 시의 편의성을 위해 while -> if 로 교체하여 일회성 서버 구현\n",
    "    client_socket, addr = server_socket.accept()\n",
    "    print('accepting')\n",
    "    data = client_socket.recv(65535)\n",
    "    data = data.decode()\n",
    "\n",
    "    headers = data.split(\"\\r\\n\")  # 요청시 송수신 데이터의 가장 첫부분이 요청 파일\n",
    "    filename = headers[0].split(\" \")[1]  # 데이터 스플릿, 파일 명 추출\n",
    "    text_type = ['.html', '.txt']\n",
    "    image_type = ['png', 'jpg', 'jpeg', 'gif']\n",
    "    \n",
    "    for i in text_type:        \n",
    "        if i in filename:\n",
    "            file = open(\".\" + filename, 'rt', encoding='utf-8')  # 절대경로 상대경로화\n",
    "            html = file.read()\n",
    "            header = 'HTTP/1.0.200 OK\\r\\n\\r\\n'\n",
    "            client_socket.send(header.encode(\"utf-8\"))\n",
    "            client_socket.send(html.encode(\"utf-8\"))\n",
    "            client_socket.close()\n",
    "            \n",
    "    for i in image_type:\n",
    "        if i in filename:\n",
    "            client_socket.send('HTTP/1.1 200 OK\\r\\n'.encode())\n",
    "            client_socket.send(f'Content-Type: image/{i}\\r\\n'.encode())\n",
    "            client_socket.send('Accept-Range: bytes\\r\\n\\r\\n'.encode())\n",
    "            file = open('.'+filename, 'rb')\n",
    "            client_socket.send(file.read())\n",
    "            file.close()\n",
    "        \n",
    "    for a in text_type:\n",
    "        for b in image_type:\n",
    "            if a not in filename or b not in filename:\n",
    "                header = 'HTTP/1.0. 404 File Not Found OK\\r\\n\\r\\n'\n",
    "                client_socket.send(header.encode(\"utf-8\"))\n",
    "    client_socket.close()"
   ]
  },
  {
   "cell_type": "markdown",
   "metadata": {
    "heading_collapsed": true,
    "hidden": true
   },
   "source": [
    "### file 요청 및 응답 확장 2"
   ]
  },
  {
   "cell_type": "code",
   "execution_count": null,
   "metadata": {
    "ExecuteTime": {
     "start_time": "2020-02-11T04:55:29.538Z"
    },
    "hidden": true
   },
   "outputs": [],
   "source": [
    "server_socket = socket.socket(socket.AF_INET, socket.SOCK_STREAM)\n",
    "server_socket.bind(('localhost', 80))\n",
    "server_socket.listen(0)\n",
    "print(\"listening\")\n",
    "\n",
    "while  True :\n",
    "    client_socket, addr = server_socket.accept()\n",
    "    print(\"accepting\")\n",
    "    data = client_socket.recv(65535)    \n",
    "    data = data.decode()\n",
    "    print(data)        \n",
    "    \n",
    "    try :    \n",
    "        headers = data.split(\"\\r\\n\")\n",
    "        filename = headers[0].split(\" \")[1]\n",
    "\n",
    "        if '.html' in filename:\n",
    "            file = open(\".\"+ filename, 'rt', encoding='utf-8')\n",
    "            html = file.read()    \n",
    "            header = 'HTTP/1.0 200 OK\\r\\n\\r\\n'        \n",
    "            client_socket.send(header.encode(\"utf-8\"))\n",
    "            client_socket.send(html.encode(\"utf-8\"))\n",
    "            \n",
    "        elif '.jpg' in filename :         \n",
    "            client_socket.send('HTTP/1.1 200 OK\\r\\n'.encode())\n",
    "            client_socket.send(\"Content-Type: image/jpg\\r\\n\".encode())\n",
    "            client_socket.send(\"Accept-Ranges: bytes\\r\\n\\r\\n\".encode())\n",
    "            file = open(\".\" + filename, \"rb\")            \n",
    "            client_socket.send(file.read())  \n",
    "            file.close\n",
    "            \n",
    "        elif '.png' in filename :         \n",
    "            client_socket.send('HTTP/1.1 200 OK\\r\\n'.encode())\n",
    "            client_socket.send(\"Content-Type: image/png\\r\\n\".encode())\n",
    "            client_socket.send(\"Accept-Ranges: bytes\\r\\n\\r\\n\".encode())\n",
    "            file = open(\".\" + filename, \"rb\")            \n",
    "            client_socket.send(file.read())  \n",
    "            file.close()\n",
    "            \n",
    "        else :\n",
    "            header = 'HTTP/1.0 404 File Not Found\\r\\n\\r\\n'        \n",
    "            client_socket.send(header.encode(\"utf-8\"))\n",
    "            \n",
    "    except Exception as e :\n",
    "        print(e)         \n",
    "    client_socket.close()"
   ]
  },
  {
   "cell_type": "markdown",
   "metadata": {},
   "source": [
    "## file 요청 및 응답 (동적 file)"
   ]
  },
  {
   "cell_type": "code",
   "execution_count": 11,
   "metadata": {
    "ExecuteTime": {
     "end_time": "2020-02-11T08:29:35.799500Z",
     "start_time": "2020-02-11T08:29:34.162466Z"
    }
   },
   "outputs": [
    {
     "name": "stdout",
     "output_type": "stream",
     "text": [
      "listening\n",
      "accepting\n"
     ]
    }
   ],
   "source": [
    "server_socket = socket.socket(socket.AF_INET, socket.SOCK_STREAM)\n",
    "server_socket.bind(('localhost', 80))\n",
    "server_socket.listen(0)\n",
    "print(\"listening\")\n",
    "\n",
    "if True :\n",
    "    client_socket, addr = server_socket.accept()\n",
    "    print(\"accepting\")\n",
    "    data = client_socket.recv(65535)    \n",
    "    data = data.decode()\n",
    "    #print(data)        \n",
    "    \n",
    "    try :    \n",
    "        headers = data.split(\"\\r\\n\")\n",
    "        filename = headers[0].split(\" \")[1]\n",
    "        \n",
    "        if '.py' in filename:\n",
    "            html = subprocess.check_output(['python.exe', '.'+filename])\n",
    "            html = html.decode('cp949')\n",
    "            header = 'HTTP/1.0 200 OK\\r\\n\\r\\n'        \n",
    "            client_socket.send(header.encode(\"utf-8\"))\n",
    "            #client_socket.send(\"Content-Type: text/html\\r\\n\\r\\n\".encode())\n",
    "            client_socket.send(html.encode(\"utf-8\"))\n",
    "            \n",
    "        elif '.html' in filename:\n",
    "            file = open(\".\"+ filename, 'rt', encoding='utf-8')\n",
    "            html = file.read()    \n",
    "            header = 'HTTP/1.0 200 OK\\r\\n\\r\\n'        \n",
    "            client_socket.send(header.encode(\"utf-8\"))\n",
    "            client_socket.send(html.encode(\"utf-8\"))\n",
    "            \n",
    "        elif '.jpg' in filename or '.ico' in filename:         \n",
    "            client_socket.send('HTTP/1.1 200 OK\\r\\n'.encode())\n",
    "            client_socket.send(\"Content-Type: image/\\r\\n\".encode())\n",
    "            client_socket.send(\"Accept-Ranges: bytes\\r\\n\\r\\n\".encode())\n",
    "            file = open(\".\" + filename, \"rb\")            \n",
    "            client_socket.send(file.read())  \n",
    "            file.close()               \n",
    "            \n",
    "        else :\n",
    "            header = 'HTTP/1.0 404 File Not Found\\r\\n\\r\\n'        \n",
    "            client_socket.send(header.encode(\"utf-8\"))\n",
    "    except Exception as e :\n",
    "        print(e)         \n",
    "    client_socket.close()"
   ]
  },
  {
   "cell_type": "markdown",
   "metadata": {},
   "source": [
    "python 내에서 dos 실행"
   ]
  },
  {
   "cell_type": "code",
   "execution_count": null,
   "metadata": {
    "ExecuteTime": {
     "end_time": "2020-02-11T05:21:57.930377Z",
     "start_time": "2020-02-11T05:21:57.881406Z"
    }
   },
   "outputs": [],
   "source": [
    "output = subprocess.check_output(['python.exe', 'test.py'])\n",
    "print(output.decode('cp949'))"
   ]
  },
  {
   "cell_type": "code",
   "execution_count": null,
   "metadata": {},
   "outputs": [],
   "source": []
  }
 ],
 "metadata": {
  "kernelspec": {
   "display_name": "Python 3",
   "language": "python",
   "name": "python3"
  },
  "language_info": {
   "codemirror_mode": {
    "name": "ipython",
    "version": 3
   },
   "file_extension": ".py",
   "mimetype": "text/x-python",
   "name": "python",
   "nbconvert_exporter": "python",
   "pygments_lexer": "ipython3",
   "version": "3.7.4"
  },
  "latex_envs": {
   "LaTeX_envs_menu_present": true,
   "autoclose": false,
   "autocomplete": true,
   "bibliofile": "biblio.bib",
   "cite_by": "apalike",
   "current_citInitial": 1,
   "eqLabelWithNumbers": true,
   "eqNumInitial": 1,
   "hotkeys": {
    "equation": "Ctrl-E",
    "itemize": "Ctrl-I"
   },
   "labels_anchors": false,
   "latex_user_defs": false,
   "report_style_numbering": false,
   "user_envs_cfg": false
  },
  "toc": {
   "base_numbering": 1,
   "nav_menu": {},
   "number_sections": true,
   "sideBar": true,
   "skip_h1_title": false,
   "title_cell": "Table of Contents",
   "title_sidebar": "Contents",
   "toc_cell": false,
   "toc_position": {},
   "toc_section_display": true,
   "toc_window_display": false
  },
  "varInspector": {
   "cols": {
    "lenName": 16,
    "lenType": 16,
    "lenVar": 40
   },
   "kernels_config": {
    "python": {
     "delete_cmd_postfix": "",
     "delete_cmd_prefix": "del ",
     "library": "var_list.py",
     "varRefreshCmd": "print(var_dic_list())"
    },
    "r": {
     "delete_cmd_postfix": ") ",
     "delete_cmd_prefix": "rm(",
     "library": "var_list.r",
     "varRefreshCmd": "cat(var_dic_list()) "
    }
   },
   "types_to_exclude": [
    "module",
    "function",
    "builtin_function_or_method",
    "instance",
    "_Feature"
   ],
   "window_display": false
  }
 },
 "nbformat": 4,
 "nbformat_minor": 2
}
