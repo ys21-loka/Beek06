{
 "cells": [
  {
   "cell_type": "code",
   "execution_count": 36,
   "metadata": {
    "ExecuteTime": {
     "end_time": "2020-02-21T06:24:21.204718Z",
     "start_time": "2020-02-21T06:24:21.199684Z"
    }
   },
   "outputs": [],
   "source": [
    "from django.db import connection\n",
    "from django.contrib.auth.models import User\n",
    "from ajax import models"
   ]
  },
  {
   "cell_type": "code",
   "execution_count": 50,
   "metadata": {
    "ExecuteTime": {
     "end_time": "2020-02-21T06:28:16.149327Z",
     "start_time": "2020-02-21T06:28:16.144381Z"
    }
   },
   "outputs": [],
   "source": [
    "def dictfetchall(cursor):\n",
    "    desc=cursor.description\n",
    "    return[\n",
    "        dict(zip([col[0] for col in desc],row))\n",
    "        for row in cursor.fetchall()       \n",
    "    ]"
   ]
  },
  {
   "cell_type": "code",
   "execution_count": 37,
   "metadata": {
    "ExecuteTime": {
     "end_time": "2020-02-21T06:24:21.994858Z",
     "start_time": "2020-02-21T06:24:21.991845Z"
    }
   },
   "outputs": [],
   "source": [
    "data = User.objects.all()"
   ]
  },
  {
   "cell_type": "code",
   "execution_count": 38,
   "metadata": {
    "ExecuteTime": {
     "end_time": "2020-02-21T06:24:22.764468Z",
     "start_time": "2020-02-21T06:24:22.759557Z"
    },
    "scrolled": true
   },
   "outputs": [
    {
     "data": {
      "text/plain": [
       "{'sql': 'SELECT \"auth_user\".\"id\", \"auth_user\".\"password\", \"auth_user\".\"last_login\", \"auth_user\".\"is_superuser\", \"auth_user\".\"username\", \"auth_user\".\"first_name\", \"auth_user\".\"last_name\", \"auth_user\".\"email\", \"auth_user\".\"is_staff\", \"auth_user\".\"is_active\", \"auth_user\".\"date_joined\" FROM \"auth_user\" LIMIT 21',\n",
       " 'time': '0.000'}"
      ]
     },
     "execution_count": 38,
     "metadata": {},
     "output_type": "execute_result"
    }
   ],
   "source": [
    "connection.queries[0]"
   ]
  },
  {
   "cell_type": "code",
   "execution_count": 39,
   "metadata": {
    "ExecuteTime": {
     "end_time": "2020-02-21T06:24:24.004532Z",
     "start_time": "2020-02-21T06:24:24.000535Z"
    }
   },
   "outputs": [
    {
     "data": {
      "text/plain": [
       "<RawQuerySet: SELECT title FROM myapp_user>"
      ]
     },
     "execution_count": 39,
     "metadata": {},
     "output_type": "execute_result"
    }
   ],
   "source": [
    "User.objects.raw('SELECT title FROM myapp_user')"
   ]
  },
  {
   "cell_type": "code",
   "execution_count": 40,
   "metadata": {
    "ExecuteTime": {
     "end_time": "2020-02-21T06:24:25.331616Z",
     "start_time": "2020-02-21T06:24:25.327626Z"
    }
   },
   "outputs": [],
   "source": [
    "cursor = connection.cursor()"
   ]
  },
  {
   "cell_type": "code",
   "execution_count": 41,
   "metadata": {
    "ExecuteTime": {
     "end_time": "2020-02-21T06:24:26.643228Z",
     "start_time": "2020-02-21T06:24:26.639231Z"
    }
   },
   "outputs": [],
   "source": [
    "cursor = connection.cursor()\n",
    "cursor.execute('SELECT id, filename, author_id from ajax_image')\n",
    "results = cursor.fetchall()"
   ]
  },
  {
   "cell_type": "code",
   "execution_count": 42,
   "metadata": {
    "ExecuteTime": {
     "end_time": "2020-02-21T06:24:28.979551Z",
     "start_time": "2020-02-21T06:24:28.975567Z"
    }
   },
   "outputs": [
    {
     "name": "stdout",
     "output_type": "stream",
     "text": [
      "(1, 'f1.png', 1)\n",
      "(2, 'f2.png', 1)\n",
      "(3, 'f3.png', 1)\n",
      "(4, 'f4.png', 1)\n",
      "(5, 'f5.png', 1)\n"
     ]
    }
   ],
   "source": [
    "for r in results :\n",
    "    print(r)"
   ]
  },
  {
   "cell_type": "code",
   "execution_count": 71,
   "metadata": {
    "ExecuteTime": {
     "end_time": "2020-02-21T06:52:36.094521Z",
     "start_time": "2020-02-21T06:52:36.083015Z"
    }
   },
   "outputs": [
    {
     "data": {
      "text/plain": [
       "(('filename', None, None, None, None, None, None),)"
      ]
     },
     "execution_count": 71,
     "metadata": {},
     "output_type": "execute_result"
    }
   ],
   "source": [
    "cursor.description"
   ]
  },
  {
   "cell_type": "code",
   "execution_count": 44,
   "metadata": {
    "ExecuteTime": {
     "end_time": "2020-02-21T06:24:34.629187Z",
     "start_time": "2020-02-21T06:24:34.620975Z"
    }
   },
   "outputs": [],
   "source": [
    "username=\"beek06\""
   ]
  },
  {
   "cell_type": "code",
   "execution_count": 45,
   "metadata": {
    "ExecuteTime": {
     "end_time": "2020-02-21T06:24:37.268500Z",
     "start_time": "2020-02-21T06:24:37.264511Z"
    }
   },
   "outputs": [
    {
     "name": "stdout",
     "output_type": "stream",
     "text": [
      "\n",
      "select filename\n",
      "from ajax_image\n",
      "where author_id = ( select id from auth_user where username='beek06')\n",
      "\n"
     ]
    }
   ],
   "source": [
    "sql = f\"\"\"\n",
    "select filename\n",
    "from ajax_image\n",
    "where author_id = ( select id from auth_user where username='{username}')\n",
    "\"\"\"\n",
    "print(sql)"
   ]
  },
  {
   "cell_type": "code",
   "execution_count": 46,
   "metadata": {
    "ExecuteTime": {
     "end_time": "2020-02-21T06:24:41.836635Z",
     "start_time": "2020-02-21T06:24:41.831649Z"
    },
    "scrolled": true
   },
   "outputs": [
    {
     "data": {
      "text/plain": [
       "<django.db.backends.sqlite3.base.SQLiteCursorWrapper at 0x2144fa61dc8>"
      ]
     },
     "execution_count": 46,
     "metadata": {},
     "output_type": "execute_result"
    }
   ],
   "source": [
    "cursor = connection.cursor()\n",
    "cursor.execute(sql)"
   ]
  },
  {
   "cell_type": "code",
   "execution_count": 52,
   "metadata": {
    "ExecuteTime": {
     "end_time": "2020-02-21T06:28:42.043524Z",
     "start_time": "2020-02-21T06:28:42.031847Z"
    }
   },
   "outputs": [
    {
     "name": "stdout",
     "output_type": "stream",
     "text": [
      "{'data': [{'filename': 'f1.png'}, {'filename': 'f2.png'}, {'filename': 'f3.png'}, {'filename': 'f4.png'}, {'filename': 'f5.png'}], 'username': 'beek06'}\n"
     ]
    }
   ],
   "source": [
    "data = dictfetchall(cursor)\n",
    "context = {\"data\":data, \"username\":username}\n",
    "print(context)"
   ]
  },
  {
   "cell_type": "code",
   "execution_count": 65,
   "metadata": {
    "ExecuteTime": {
     "end_time": "2020-02-21T06:46:57.101739Z",
     "start_time": "2020-02-21T06:46:56.938750Z"
    }
   },
   "outputs": [],
   "source": [
    "from django.core.files.uploadedfile import SimpleUploadedFile\n",
    "from django.test import RequestFactory\n",
    "rf =  RequestFactory()"
   ]
  },
  {
   "cell_type": "code",
   "execution_count": 66,
   "metadata": {
    "ExecuteTime": {
     "end_time": "2020-02-21T06:46:58.888489Z",
     "start_time": "2020-02-21T06:46:58.881471Z"
    }
   },
   "outputs": [],
   "source": [
    "f = open(\"static/img/moon.jpg\", \"rb\")\n",
    "file_upload = SimpleUploadedFile(\"moon.jpg\", f.read(), content_type=\"image/jpeg\")\n",
    "data = {\n",
    "    \"filename\":file_upload, \"username\":\"beek06\"\n",
    "}\n",
    "\n",
    "request = rf.post(\"/ajax/upload\", data=data, format='multipart')"
   ]
  },
  {
   "cell_type": "code",
   "execution_count": 67,
   "metadata": {
    "ExecuteTime": {
     "end_time": "2020-02-21T06:47:12.074567Z",
     "start_time": "2020-02-21T06:47:12.065620Z"
    }
   },
   "outputs": [],
   "source": [
    "username = request.POST[\"username\"]"
   ]
  },
  {
   "cell_type": "code",
   "execution_count": 70,
   "metadata": {
    "ExecuteTime": {
     "end_time": "2020-02-21T06:49:12.080739Z",
     "start_time": "2020-02-21T06:49:12.073732Z"
    }
   },
   "outputs": [],
   "source": [
    "file = request.FILES['filename']\n",
    "filename = file._name\n",
    "fp = open(settings.BASE_DIR + \"/static/face/\"+ username + \"/\" + filename, \"wb\")\n",
    "for chunk in file.chunks() :\n",
    "    fp.write(chunk)\n",
    "fp.close()\n",
    "#db insert\n"
   ]
  },
  {
   "cell_type": "code",
   "execution_count": null,
   "metadata": {},
   "outputs": [],
   "source": []
  }
 ],
 "metadata": {
  "kernelspec": {
   "display_name": "Django Shell-Plus",
   "language": "python",
   "name": "django_extensions"
  },
  "language_info": {
   "codemirror_mode": {
    "name": "ipython",
    "version": 3
   },
   "file_extension": ".py",
   "mimetype": "text/x-python",
   "name": "python",
   "nbconvert_exporter": "python",
   "pygments_lexer": "ipython3",
   "version": "3.6.10"
  },
  "latex_envs": {
   "LaTeX_envs_menu_present": true,
   "autoclose": false,
   "autocomplete": true,
   "bibliofile": "biblio.bib",
   "cite_by": "apalike",
   "current_citInitial": 1,
   "eqLabelWithNumbers": true,
   "eqNumInitial": 1,
   "hotkeys": {
    "equation": "Ctrl-E",
    "itemize": "Ctrl-I"
   },
   "labels_anchors": false,
   "latex_user_defs": false,
   "report_style_numbering": false,
   "user_envs_cfg": false
  },
  "toc": {
   "base_numbering": 1,
   "nav_menu": {},
   "number_sections": true,
   "sideBar": true,
   "skip_h1_title": false,
   "title_cell": "Table of Contents",
   "title_sidebar": "Contents",
   "toc_cell": false,
   "toc_position": {},
   "toc_section_display": true,
   "toc_window_display": false
  },
  "varInspector": {
   "cols": {
    "lenName": 16,
    "lenType": 16,
    "lenVar": 40
   },
   "kernels_config": {
    "python": {
     "delete_cmd_postfix": "",
     "delete_cmd_prefix": "del ",
     "library": "var_list.py",
     "varRefreshCmd": "print(var_dic_list())"
    },
    "r": {
     "delete_cmd_postfix": ") ",
     "delete_cmd_prefix": "rm(",
     "library": "var_list.r",
     "varRefreshCmd": "cat(var_dic_list()) "
    }
   },
   "types_to_exclude": [
    "module",
    "function",
    "builtin_function_or_method",
    "instance",
    "_Feature"
   ],
   "window_display": false
  }
 },
 "nbformat": 4,
 "nbformat_minor": 4
}
