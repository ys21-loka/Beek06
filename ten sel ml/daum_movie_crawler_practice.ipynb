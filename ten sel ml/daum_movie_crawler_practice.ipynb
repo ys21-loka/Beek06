{
 "cells": [
  {
   "cell_type": "code",
   "execution_count": null,
   "metadata": {},
   "outputs": [],
   "source": [
    "#다음 영화평점 스크래핑 실습\n",
    "\n",
    "from bs4 import BeautifulSoup\n",
    "import re\n",
    "import requests\n",
    "req = requests.get('https://movie.daum.net/moviedb/main?movieId=133855')\n",
    "html = req.text\n",
    "soup = BeautifulSoup(html, 'html.parser')\n",
    "titles = soup.select('.tit_movie')\n",
    "points = soup.select('li > div.review_info > div > em.emph_grade')\n",
    "reviews = soup.select('div.review_info')\n",
    "\n",
    "movie_title = []\n",
    "movie_point = []\n",
    "movie_review = []\n",
    "\n",
    "for dom in titles:\n",
    "    movie_title.append(dom.text)\n",
    "    \n",
    "for dom in points:\n",
    "    movie_point.append(dom.text)\n",
    "\n",
    "\n",
    "    \n",
    "    \n",
    "print(\"영화제목:\", movie_title[1])\n",
    "print(points)\n",
    "print(reviews)"
   ]
  }
 ],
 "metadata": {
  "kernelspec": {
   "display_name": "Python 3",
   "language": "python",
   "name": "python3"
  },
  "language_info": {
   "codemirror_mode": {
    "name": "ipython",
    "version": 3
   },
   "file_extension": ".py",
   "mimetype": "text/x-python",
   "name": "python",
   "nbconvert_exporter": "python",
   "pygments_lexer": "ipython3",
   "version": "3.7.4"
  }
 },
 "nbformat": 4,
 "nbformat_minor": 2
}
