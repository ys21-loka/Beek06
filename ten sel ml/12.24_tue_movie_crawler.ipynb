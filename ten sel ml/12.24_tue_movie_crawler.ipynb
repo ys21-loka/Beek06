{
 "cells": [
  {
   "cell_type": "code",
   "execution_count": 1,
   "metadata": {},
   "outputs": [
    {
     "name": "stdout",
     "output_type": "stream",
     "text": [
      "영화제목: 검은 사제들\n",
      "평점: 7\n",
      "리뷰: 무게감이 있어 관람에 심적 부담감도 있었고 아기돼지 이미지가 무거운 분위기와 잘 매치가 안돼서 어색해보였지만 귀여웠다 \n",
      "-------------------------\n",
      "영화제목: 백두산\n",
      "평점: 10\n",
      "리뷰: 아니 진짜 재밌는데 ㅜㅜㅜ 시지좋고 배우들 연기좋고 \n",
      "-------------------------\n",
      "영화제목: 시동\n",
      "평점: 9\n",
      "리뷰: 뻔한 소재인데도 몰입도는 최고 재밌었음! \n",
      "-------------------------\n",
      "영화제목: 신비아파트 극장판 하늘도깨비 대 요르문간드\n",
      "평점: 10\n",
      "리뷰: 아이들과 즐거운 시간 보내고 왔습니다~~~주비 너무 귀여움요 ㅠㅠ \n",
      "-------------------------\n",
      "영화제목: 백두산\n",
      "평점: 1\n",
      "리뷰: 영화가 산으로 가는 느낌천문보세요. 백두산은 천문에 비하면 OOO기 폐급영화입니다. \n",
      "-------------------------\n",
      "영화제목: 백두산\n",
      "평점: 6\n",
      "리뷰: 초반에는 재미없어서 '아 잠들것같은데' 하는순간.. 그지점부터 집중하게됐다.하정우가 연기를 이렇게 못했었나에 놀랐고수지의 청순함에 놀랐고 수지가 우는장면에서 사람들이 울어줬어야 하는것같은데 솔직히 감정전달이 잘 안되다보니 감동이 오다말았고.. 이병헌의 연기력은 말할것도없어서.. 이병헌 아니었으면 폭망했을것같아요... 하정우배우님은... 그 걷기모임에 있는 지인들 그만좀 챙겨요 ㅠ ㅠ \n",
      "-------------------------\n",
      "영화제목: 시동\n",
      "평점: 10\n",
      "리뷰: 믿고 보는 배우들ㅋㅋ 예고편떳을때부터 재밌었다구ㅋㅋ \n",
      "-------------------------\n",
      "영화제목: 라이온 킹\n",
      "평점: 9\n",
      "리뷰: 어릴때 가장 감명깊게 보았던 라이온킹아이랑 다시 봤네요영상미 넘 좋아요 \n",
      "-------------------------\n",
      "영화제목: 시동\n",
      "평점: 10\n",
      "리뷰: 마블리 거석이형이 한건했다ㅋㅋㅋ 역대급 인캐bb \n",
      "-------------------------\n",
      "영화제목: 백두산\n",
      "평점: 6\n",
      "리뷰: 난 재미있게봤엉 나쁘지않던데 \n",
      "-------------------------\n"
     ]
    }
   ],
   "source": [
    "#네이버 영화평점 스크래핑 실습\n",
    "\n",
    "from bs4 import BeautifulSoup\n",
    "import re\n",
    "import requests\n",
    "\n",
    "req = requests.get('https://movie.naver.com/movie/point/af/list.nhn?page=1')\n",
    "html = req.text\n",
    "soup = BeautifulSoup(html, 'html.parser')\n",
    "titles = soup.select('.movie')\n",
    "points = soup.select('td.title > div > em')\n",
    "reviews = soup.select('td.title')\n",
    "\n",
    "movie_title = []\n",
    "movie_point = []\n",
    "movie_review = []\n",
    "\n",
    "for dom in titles:\n",
    "    movie_title.append(dom.text)\n",
    "    \n",
    "for dom in points:\n",
    "    movie_point.append(dom.text)\n",
    "    \n",
    "for dom in reviews:\n",
    "    content = dom.contents[6]\n",
    "    content = re.sub(\"[\\n\\t]\", \"\", content)\n",
    "    content = re.sub(\"신고\", \"\", content)\n",
    "    movie_review.append(content)\n",
    "    \n",
    "for i in range(len(movie_title)):\n",
    "    print('영화제목:', movie_title[i])\n",
    "    print('평점:', movie_point[i])\n",
    "    print('리뷰:', movie_review[i])\n",
    "    print('-------------------------')"
   ]
  }
 ],
 "metadata": {
  "kernelspec": {
   "display_name": "Python 3",
   "language": "python",
   "name": "python3"
  },
  "language_info": {
   "codemirror_mode": {
    "name": "ipython",
    "version": 3
   },
   "file_extension": ".py",
   "mimetype": "text/x-python",
   "name": "python",
   "nbconvert_exporter": "python",
   "pygments_lexer": "ipython3",
   "version": "3.7.4"
  }
 },
 "nbformat": 4,
 "nbformat_minor": 2
}
