{
 "cells": [
  {
   "cell_type": "code",
   "execution_count": null,
   "metadata": {},
   "outputs": [],
   "source": [
    "#스크래핑할 웹 사이트 URL \n",
    "# url <- 'https://www.imdb.com/search/title/?count=100&release_date=2019,2019&title_type=feature'\n",
    "# https://www.imdb.com/search/title/?count=100&release_date=2018,2018&title_type=feature\n",
    "#\n",
    "#http://www.imdb.com/search/title?count=100&release_date=2017,2017&title_type=feature\n",
    "# 스크래핑할 데이터 - rank, title, description, runtime, genre, rating, metascore, votes, gross_earning_in_Mil, director, actor\n",
    "\n",
    "\n",
    "# 스크래핑한 데이터 pandas의 data.frame으로 변환하여 2017bestfilms.csv파일로 저장하거나 Database의 테이블에 저장하시오\n",
    "\n",
    "# gross revenue(총수익)  높은 필름(영화)는?\n",
    "\n",
    "#상영시간이 가장 긴 필름의 장르는?\n",
    " \n",
    "\n",
    "#상영시간이 130-160 분인 장르중 votes가 가장 높은 것은?\n",
    "\n",
    "from bs4 import BeautifulSoup\n",
    "import re\n",
    "import requests\n",
    "\n",
    "req = requests.get('https://movie.naver.com/movie/point/af/list.nhn?page=1')\n",
    "html = req.text\n",
    "soup = BeautifulSoup(html, 'html.parser')\n",
    "titles = soup.select('.movie')\n",
    "points = soup.select('td.title > div > em')\n",
    "reviews = soup.select('td.title')\n",
    "\n",
    "movie_title = []\n",
    "movie_point = []\n",
    "movie_review = []\n",
    "\n",
    "for dom in titles:\n",
    "    movie_title.append(dom.text)\n",
    "    \n",
    "for dom in points:\n",
    "    movie_point.append(dom.text)\n",
    "    \n",
    "for dom in reviews:\n",
    "    content = dom.contents[6]\n",
    "    content = re.sub(\"[\\n\\t]\", \"\", content)\n",
    "    content = re.sub(\"신고\", \"\", content)\n",
    "    movie_review.append(content)\n",
    "    \n",
    "for i in range(len(movie_title)):\n",
    "    print('영화제목:', movie_title[i])\n",
    "    print('평점:', movie_point[i])\n",
    "    print('리뷰:', movie_review[i])\n",
    "    print('-------------------------')"
   ]
  }
 ],
 "metadata": {
  "kernelspec": {
   "display_name": "Python 3",
   "language": "python",
   "name": "python3"
  },
  "language_info": {
   "codemirror_mode": {
    "name": "ipython",
    "version": 3
   },
   "file_extension": ".py",
   "mimetype": "text/x-python",
   "name": "python",
   "nbconvert_exporter": "python",
   "pygments_lexer": "ipython3",
   "version": "3.7.4"
  }
 },
 "nbformat": 4,
 "nbformat_minor": 2
}
