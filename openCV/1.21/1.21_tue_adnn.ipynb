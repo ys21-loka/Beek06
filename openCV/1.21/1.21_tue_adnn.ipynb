{
 "cells": [
  {
   "cell_type": "markdown",
   "metadata": {},
   "source": [
    "# Advanced MLP\n",
    "- Advanced techniques for training neural networks\n",
    "  - Weight Initialization\n",
    "  - Nonlinearity (Activation function)\n",
    "  - Optimizers\n",
    "  - Batch Normalization\n",
    "  - Dropout (Regularization)\n",
    "  - Model Ensemble"
   ]
  },
  {
   "cell_type": "code",
   "execution_count": 76,
   "metadata": {
    "ExecuteTime": {
     "end_time": "2020-01-21T06:13:45.171191Z",
     "start_time": "2020-01-21T06:13:45.153338Z"
    }
   },
   "outputs": [],
   "source": [
    "import matplotlib.pyplot as plt\n",
    "from sklearn.model_selection import train_test_split\n",
    "from keras.datasets import mnist\n",
    "from keras.models import Sequential\n",
    "from keras.utils.np_utils import to_categorical\n",
    "from keras.models import Sequential\n",
    "from keras.layers import Activation, Dense\n",
    "from keras import optimizers\n",
    "from keras.layers import Dropout\n",
    "import numpy as np\n",
    "from keras.wrappers.scikit_learn import KerasClassifier\n",
    "from sklearn.ensemble import VotingClassifier\n",
    "from sklearn.metrics import accuracy_score\n",
    "from keras.layers import BatchNormalization"
   ]
  },
  {
   "cell_type": "markdown",
   "metadata": {},
   "source": [
    "## Load Dataset\n",
    "- MNIST dataset"
   ]
  },
  {
   "cell_type": "code",
   "execution_count": 77,
   "metadata": {
    "ExecuteTime": {
     "end_time": "2020-01-21T06:13:46.678764Z",
     "start_time": "2020-01-21T06:13:46.449155Z"
    }
   },
   "outputs": [],
   "source": [
    "(X_train, y_train), (X_test, y_test) = mnist.load_data()"
   ]
  },
  {
   "cell_type": "code",
   "execution_count": 78,
   "metadata": {
    "ExecuteTime": {
     "end_time": "2020-01-21T06:13:46.814979Z",
     "start_time": "2020-01-21T06:13:46.810990Z"
    },
    "scrolled": true
   },
   "outputs": [
    {
     "name": "stdout",
     "output_type": "stream",
     "text": [
      "(60000, 28, 28)\n",
      "(60000,)\n"
     ]
    }
   ],
   "source": [
    "print(X_train.shape)\n",
    "print(y_train.shape)"
   ]
  },
  {
   "cell_type": "code",
   "execution_count": 79,
   "metadata": {
    "ExecuteTime": {
     "end_time": "2020-01-21T06:13:47.152123Z",
     "start_time": "2020-01-21T06:13:47.065310Z"
    }
   },
   "outputs": [
    {
     "data": {
      "image/png": "[encoded data removed]",
      "text/plain": [
       "<Figure size 432x288 with 1 Axes>"
      ]
     },
     "metadata": {
      "needs_background": "light"
     },
     "output_type": "display_data"
    },
    {
     "name": "stdout",
     "output_type": "stream",
     "text": [
      "Label:  5\n"
     ]
    }
   ],
   "source": [
    "plt.imshow(X_train[0])    # show first number in the dataset\n",
    "plt.show()\n",
    "print('Label: ', y_train[0])"
   ]
  },
  {
   "cell_type": "code",
   "execution_count": 80,
   "metadata": {
    "ExecuteTime": {
     "end_time": "2020-01-21T06:13:47.364509Z",
     "start_time": "2020-01-21T06:13:47.280733Z"
    }
   },
   "outputs": [
    {
     "data": {
      "image/png": "[encoded data removed]",
      "text/plain": [
       "<Figure size 432x288 with 1 Axes>"
      ]
     },
     "metadata": {
      "needs_background": "light"
     },
     "output_type": "display_data"
    },
    {
     "name": "stdout",
     "output_type": "stream",
     "text": [
      "Label:  7\n"
     ]
    }
   ],
   "source": [
    "plt.imshow(X_test[0])    # show first number in the dataset\n",
    "plt.show()\n",
    "print('Label: ', y_test[0])"
   ]
  },
  {
   "cell_type": "code",
   "execution_count": 81,
   "metadata": {
    "ExecuteTime": {
     "end_time": "2020-01-21T06:13:47.788201Z",
     "start_time": "2020-01-21T06:13:47.784211Z"
    }
   },
   "outputs": [],
   "source": [
    "# reshaping X data: (n, 28, 28) => (n, 784)\n",
    "X_train = X_train.reshape((X_train.shape[0], -1))\n",
    "X_test = X_test.reshape((X_test.shape[0], -1))"
   ]
  },
  {
   "cell_type": "code",
   "execution_count": 82,
   "metadata": {
    "ExecuteTime": {
     "end_time": "2020-01-21T06:13:47.970931Z",
     "start_time": "2020-01-21T06:13:47.966989Z"
    }
   },
   "outputs": [
    {
     "name": "stdout",
     "output_type": "stream",
     "text": [
      "(60000, 784)\n"
     ]
    }
   ],
   "source": [
    "print(X_train.shape)"
   ]
  },
  {
   "cell_type": "code",
   "execution_count": 83,
   "metadata": {
    "ExecuteTime": {
     "end_time": "2020-01-21T06:13:48.195650Z",
     "start_time": "2020-01-21T06:13:48.144753Z"
    }
   },
   "outputs": [],
   "source": [
    "# use only 33% of training data to expedite the training process\n",
    "X_train, _ , y_train, _ = train_test_split(X_train, y_train, test_size = 0.67, random_state = 7)"
   ]
  },
  {
   "cell_type": "code",
   "execution_count": 84,
   "metadata": {
    "ExecuteTime": {
     "end_time": "2020-01-21T06:13:48.325031Z",
     "start_time": "2020-01-21T06:13:48.320045Z"
    }
   },
   "outputs": [],
   "source": [
    "# converting y data into categorical (one-hot encoding)\n",
    "y_train = to_categorical(y_train)\n",
    "y_test = to_categorical(y_test)"
   ]
  },
  {
   "cell_type": "code",
   "execution_count": 85,
   "metadata": {
    "ExecuteTime": {
     "end_time": "2020-01-21T06:13:48.508488Z",
     "start_time": "2020-01-21T06:13:48.503548Z"
    }
   },
   "outputs": [
    {
     "name": "stdout",
     "output_type": "stream",
     "text": [
      "(19800, 784) (10000, 784) (19800, 10) (10000, 10)\n"
     ]
    }
   ],
   "source": [
    "print(X_train.shape, X_test.shape, y_train.shape, y_test.shape)"
   ]
  },
  {
   "cell_type": "markdown",
   "metadata": {},
   "source": [
    "# Basic MLP model"
   ]
  },
  {
   "cell_type": "code",
   "execution_count": 86,
   "metadata": {
    "ExecuteTime": {
     "end_time": "2020-01-21T06:13:48.868464Z",
     "start_time": "2020-01-21T06:13:48.864475Z"
    }
   },
   "outputs": [],
   "source": [
    "model = Sequential()"
   ]
  },
  {
   "cell_type": "code",
   "execution_count": 87,
   "metadata": {
    "ExecuteTime": {
     "end_time": "2020-01-21T06:13:49.085196Z",
     "start_time": "2020-01-21T06:13:49.033069Z"
    }
   },
   "outputs": [],
   "source": [
    "model.add(Dense(50, input_shape = (784, )))\n",
    "model.add(Activation('sigmoid'))\n",
    "model.add(Dense(50))\n",
    "model.add(Activation('sigmoid'))\n",
    "model.add(Dense(50))\n",
    "model.add(Activation('sigmoid'))\n",
    "model.add(Dense(50))\n",
    "model.add(Activation('sigmoid'))\n",
    "model.add(Dense(10))\n",
    "model.add(Activation('softmax'))"
   ]
  },
  {
   "cell_type": "code",
   "execution_count": 88,
   "metadata": {
    "ExecuteTime": {
     "end_time": "2020-01-21T06:13:49.250784Z",
     "start_time": "2020-01-21T06:13:49.208599Z"
    }
   },
   "outputs": [],
   "source": [
    "sgd = optimizers.SGD(lr = 0.001) #Adam하면 금방 올라감\n",
    "model.compile(optimizer = sgd, loss = 'categorical_crossentropy', metrics = ['accuracy'])"
   ]
  },
  {
   "cell_type": "code",
   "execution_count": 89,
   "metadata": {
    "ExecuteTime": {
     "end_time": "2020-01-21T06:14:24.107496Z",
     "start_time": "2020-01-21T06:13:49.403079Z"
    }
   },
   "outputs": [],
   "source": [
    "history = model.fit(X_train, y_train, batch_size = 256, validation_split = 0.3, epochs = 200, verbose = 0)"
   ]
  },
  {
   "cell_type": "code",
   "execution_count": 90,
   "metadata": {
    "ExecuteTime": {
     "end_time": "2020-01-21T06:14:24.223486Z",
     "start_time": "2020-01-21T06:14:24.121696Z"
    },
    "scrolled": false
   },
   "outputs": [
    {
     "data": {
      "image/png": "[encoded data removed]",
      "text/plain": [
       "<Figure size 432x288 with 1 Axes>"
      ]
     },
     "metadata": {
      "needs_background": "light"
     },
     "output_type": "display_data"
    }
   ],
   "source": [
    "plt.plot(history.history['accuracy'])\n",
    "plt.plot(history.history['val_accuracy'])\n",
    "plt.legend(['training', 'validation'], loc = 'upper left')\n",
    "plt.show()"
   ]
  },
  {
   "cell_type": "code",
   "execution_count": 91,
   "metadata": {
    "ExecuteTime": {
     "end_time": "2020-01-21T06:14:24.513632Z",
     "start_time": "2020-01-21T06:14:24.235390Z"
    }
   },
   "outputs": [
    {
     "name": "stdout",
     "output_type": "stream",
     "text": [
      "10000/10000 [==============================] - 0s 27us/step\n"
     ]
    }
   ],
   "source": [
    "results = model.evaluate(X_test, y_test)"
   ]
  },
  {
   "cell_type": "code",
   "execution_count": 92,
   "metadata": {
    "ExecuteTime": {
     "end_time": "2020-01-21T06:14:24.531542Z",
     "start_time": "2020-01-21T06:14:24.527554Z"
    }
   },
   "outputs": [
    {
     "name": "stdout",
     "output_type": "stream",
     "text": [
      "Test accuracy:  0.11349999904632568\n"
     ]
    }
   ],
   "source": [
    "print('Test accuracy: ', results[1])"
   ]
  },
  {
   "cell_type": "markdown",
   "metadata": {},
   "source": [
    "## 1. Weight Initialization\n",
    "\n",
    "- Xavier\n",
    "- Uniform distribution : sqrt( 6 / (fan_in + fan_out))\n",
    "- Normal distribution  : N(0, sqrt(2. / (fan_in + fan_out)))\n",
    "\n",
    "- HE\n",
    "- Uniform distribution : limit is sqrt( 6 / fan_in)\n",
    "- Normal distribution : N(0, sqrt(2 / fan_in))"
   ]
  },
  {
   "cell_type": "code",
   "execution_count": 93,
   "metadata": {
    "ExecuteTime": {
     "end_time": "2020-01-21T06:14:24.550567Z",
     "start_time": "2020-01-21T06:14:24.544508Z"
    }
   },
   "outputs": [],
   "source": [
    "def mlp_model():\n",
    "    model = Sequential()\n",
    "    \n",
    "    model.add(Dense(50, input_shape = (784, ), kernel_initializer='he_normal'))     # use he_normal initializer\n",
    "    model.add(Activation('sigmoid'))    \n",
    "    model.add(Dense(50, kernel_initializer='he_normal'))                            # use he_normal initializer\n",
    "    model.add(Activation('sigmoid'))    \n",
    "    model.add(Dense(50, kernel_initializer='he_normal'))                            # use he_normal initializer\n",
    "    model.add(Activation('sigmoid'))    \n",
    "    model.add(Dense(50, kernel_initializer='he_normal'))                            # use he_normal initializer\n",
    "    model.add(Activation('sigmoid'))    \n",
    "    model.add(Dense(10, kernel_initializer='he_normal'))                            # use he_normal initializer\n",
    "    model.add(Activation('softmax'))\n",
    "    \n",
    "    sgd = optimizers.SGD(lr = 0.001)\n",
    "    model.compile(optimizer = sgd, loss = 'categorical_crossentropy', metrics = ['accuracy'])\n",
    "    \n",
    "    return model"
   ]
  },
  {
   "cell_type": "code",
   "execution_count": 94,
   "metadata": {
    "ExecuteTime": {
     "end_time": "2020-01-21T06:15:45.709676Z",
     "start_time": "2020-01-21T06:14:24.566450Z"
    }
   },
   "outputs": [],
   "source": [
    "model = mlp_model()\n",
    "history = model.fit(X_train, y_train, validation_split = 0.3, epochs = 100, verbose = 0)"
   ]
  },
  {
   "cell_type": "code",
   "execution_count": 95,
   "metadata": {
    "ExecuteTime": {
     "end_time": "2020-01-21T06:15:45.825439Z",
     "start_time": "2020-01-21T06:15:45.724668Z"
    }
   },
   "outputs": [
    {
     "data": {
      "image/png": "[encoded data removed]",
      "text/plain": [
       "<Figure size 432x288 with 1 Axes>"
      ]
     },
     "metadata": {
      "needs_background": "light"
     },
     "output_type": "display_data"
    }
   ],
   "source": [
    "plt.plot(history.history['accuracy'])\n",
    "plt.plot(history.history['val_accuracy'])\n",
    "plt.legend(['training', 'validation'], loc = 'upper left')\n",
    "plt.show()"
   ]
  },
  {
   "cell_type": "code",
   "execution_count": 96,
   "metadata": {
    "ExecuteTime": {
     "end_time": "2020-01-21T06:15:46.124645Z",
     "start_time": "2020-01-21T06:15:45.836364Z"
    }
   },
   "outputs": [
    {
     "name": "stdout",
     "output_type": "stream",
     "text": [
      "10000/10000 [==============================] - 0s 28us/step\n",
      "[2.071749970626831, 0.5123999714851379]\n"
     ]
    }
   ],
   "source": [
    "results = model.evaluate(X_test, y_test)\n",
    "print(results)"
   ]
  },
  {
   "cell_type": "code",
   "execution_count": 97,
   "metadata": {
    "ExecuteTime": {
     "end_time": "2020-01-21T06:15:46.142580Z",
     "start_time": "2020-01-21T06:15:46.139526Z"
    },
    "scrolled": true
   },
   "outputs": [
    {
     "name": "stdout",
     "output_type": "stream",
     "text": [
      "Test accuracy:  0.5123999714851379\n"
     ]
    }
   ],
   "source": [
    "print('Test accuracy: ', results[1])"
   ]
  },
  {
   "cell_type": "markdown",
   "metadata": {},
   "source": [
    "## 2. Nonlinearity (Activation function)"
   ]
  },
  {
   "cell_type": "code",
   "execution_count": 98,
   "metadata": {
    "ExecuteTime": {
     "end_time": "2020-01-21T06:15:46.162465Z",
     "start_time": "2020-01-21T06:15:46.156500Z"
    }
   },
   "outputs": [],
   "source": [
    "def mlp_model():\n",
    "    model = Sequential()\n",
    "    \n",
    "    model.add(Dense(50, input_shape = (784, ), kernel_initializer='he_normal'))     # use he_normal initializer\n",
    "    model.add(Activation('relu'))    \n",
    "    model.add(Dense(50, kernel_initializer='he_normal'))                            # use he_normal initializer\n",
    "    model.add(Activation('relu'))    \n",
    "    model.add(Dense(50, kernel_initializer='he_normal'))                            # use he_normal initializer\n",
    "    model.add(Activation('relu'))    \n",
    "    model.add(Dense(50, kernel_initializer='he_normal'))                            # use he_normal initializer\n",
    "    model.add(Activation('relu'))    \n",
    "    model.add(Dense(10, kernel_initializer='he_normal'))                            # use he_normal initializer\n",
    "    model.add(Activation('softmax'))\n",
    "    \n",
    "    sgd = optimizers.SGD(lr = 0.001)\n",
    "    model.compile(optimizer = sgd, loss = 'categorical_crossentropy', metrics = ['accuracy'])\n",
    "    \n",
    "    return model"
   ]
  },
  {
   "cell_type": "code",
   "execution_count": 99,
   "metadata": {
    "ExecuteTime": {
     "end_time": "2020-01-21T06:17:06.953929Z",
     "start_time": "2020-01-21T06:15:46.176430Z"
    }
   },
   "outputs": [],
   "source": [
    "model = mlp_model()\n",
    "history = model.fit(X_train, y_train, validation_split = 0.3, epochs = 100, verbose = 0)"
   ]
  },
  {
   "cell_type": "code",
   "execution_count": 100,
   "metadata": {
    "ExecuteTime": {
     "end_time": "2020-01-21T06:17:07.061674Z",
     "start_time": "2020-01-21T06:17:06.967912Z"
    },
    "scrolled": true
   },
   "outputs": [
    {
     "data": {
      "image/png": "[encoded data removed]",
      "text/plain": [
       "<Figure size 432x288 with 1 Axes>"
      ]
     },
     "metadata": {
      "needs_background": "light"
     },
     "output_type": "display_data"
    }
   ],
   "source": [
    "plt.plot(history.history['accuracy'])\n",
    "plt.plot(history.history['val_accuracy'])\n",
    "plt.legend(['training', 'validation'], loc = 'upper left')\n",
    "plt.show()"
   ]
  },
  {
   "cell_type": "code",
   "execution_count": 101,
   "metadata": {
    "ExecuteTime": {
     "end_time": "2020-01-21T06:17:07.365387Z",
     "start_time": "2020-01-21T06:17:07.074698Z"
    }
   },
   "outputs": [
    {
     "name": "stdout",
     "output_type": "stream",
     "text": [
      "10000/10000 [==============================] - 0s 28us/step\n",
      "[0.5154353042438626, 0.906499981880188]\n"
     ]
    }
   ],
   "source": [
    "results = model.evaluate(X_test, y_test)\n",
    "print(results)"
   ]
  },
  {
   "cell_type": "code",
   "execution_count": 102,
   "metadata": {
    "ExecuteTime": {
     "end_time": "2020-01-21T06:17:07.383780Z",
     "start_time": "2020-01-21T06:17:07.379791Z"
    }
   },
   "outputs": [
    {
     "name": "stdout",
     "output_type": "stream",
     "text": [
      "Test accuracy:  0.906499981880188\n"
     ]
    }
   ],
   "source": [
    "print('Test accuracy: ', results[1])"
   ]
  },
  {
   "cell_type": "markdown",
   "metadata": {},
   "source": [
    "## 3. Optimizers"
   ]
  },
  {
   "cell_type": "code",
   "execution_count": 103,
   "metadata": {
    "ExecuteTime": {
     "end_time": "2020-01-21T06:17:07.406769Z",
     "start_time": "2020-01-21T06:17:07.399756Z"
    }
   },
   "outputs": [],
   "source": [
    "def mlp_model():\n",
    "    model = Sequential()\n",
    "    \n",
    "    model.add(Dense(50, input_shape = (784, )))\n",
    "    model.add(BatchNormalization())       \n",
    "    model.add(Activation('sigmoid'))    \n",
    "    model.add(Dense(50))\n",
    "    model.add(BatchNormalization())       \n",
    "    model.add(Activation('sigmoid'))    \n",
    "    model.add(Dense(50))\n",
    "    model.add(BatchNormalization())       \n",
    "    model.add(Activation('sigmoid'))    \n",
    "    model.add(Dense(50))\n",
    "    model.add(BatchNormalization())       \n",
    "    model.add(Activation('sigmoid'))    \n",
    "    model.add(Dense(10))\n",
    "    model.add(Activation('softmax'))\n",
    "    \n",
    "    sgd = optimizers.SGD(lr = 0.001)\n",
    "    model.compile(optimizer = sgd, loss = 'categorical_crossentropy', metrics = ['accuracy'])\n",
    "    \n",
    "    return model"
   ]
  },
  {
   "cell_type": "code",
   "execution_count": 104,
   "metadata": {
    "ExecuteTime": {
     "end_time": "2020-01-21T06:19:27.624049Z",
     "start_time": "2020-01-21T06:17:07.420681Z"
    }
   },
   "outputs": [],
   "source": [
    "model = mlp_model()\n",
    "history = model.fit(X_train, y_train, validation_split = 0.3, epochs = 100, verbose = 0)"
   ]
  },
  {
   "cell_type": "code",
   "execution_count": 105,
   "metadata": {
    "ExecuteTime": {
     "end_time": "2020-01-21T06:19:27.731152Z",
     "start_time": "2020-01-21T06:19:27.639428Z"
    }
   },
   "outputs": [
    {
     "data": {
      "image/png": "[encoded data removed]",
      "text/plain": [
       "<Figure size 432x288 with 1 Axes>"
      ]
     },
     "metadata": {
      "needs_background": "light"
     },
     "output_type": "display_data"
    }
   ],
   "source": [
    "plt.plot(history.history['accuracy'])\n",
    "plt.plot(history.history['val_accuracy'])\n",
    "plt.legend(['training', 'validation'], loc = 'upper left')\n",
    "plt.show()"
   ]
  },
  {
   "cell_type": "code",
   "execution_count": 106,
   "metadata": {
    "ExecuteTime": {
     "end_time": "2020-01-21T06:19:28.193038Z",
     "start_time": "2020-01-21T06:19:27.744054Z"
    }
   },
   "outputs": [
    {
     "name": "stdout",
     "output_type": "stream",
     "text": [
      "10000/10000 [==============================] - 0s 44us/step\n"
     ]
    }
   ],
   "source": [
    "results = model.evaluate(X_test, y_test)"
   ]
  },
  {
   "cell_type": "code",
   "execution_count": 107,
   "metadata": {
    "ExecuteTime": {
     "end_time": "2020-01-21T06:19:28.210013Z",
     "start_time": "2020-01-21T06:19:28.207000Z"
    }
   },
   "outputs": [
    {
     "name": "stdout",
     "output_type": "stream",
     "text": [
      "Test accuracy:  0.9129999876022339\n"
     ]
    }
   ],
   "source": [
    "print('Test accuracy: ', results[1])"
   ]
  },
  {
   "cell_type": "markdown",
   "metadata": {},
   "source": [
    "## 4. Batch Normalization\n",
    "\n",
    "비선형 변환 전에 추가"
   ]
  },
  {
   "cell_type": "code",
   "execution_count": 108,
   "metadata": {
    "ExecuteTime": {
     "end_time": "2020-01-21T06:19:28.229983Z",
     "start_time": "2020-01-21T06:19:28.222958Z"
    }
   },
   "outputs": [],
   "source": [
    "def mlp_model():\n",
    "    model = Sequential()\n",
    "    \n",
    "    model.add(Dense(50, input_shape = (784, )))\n",
    "    model.add(Activation('sigmoid'))    \n",
    "    model.add(Dropout(0.2))                        # Dropout layer after Activation\n",
    "    model.add(Dense(50))\n",
    "    model.add(Activation('sigmoid'))\n",
    "    model.add(Dropout(0.2))                        # Dropout layer after Activation\n",
    "    model.add(Dense(50))\n",
    "    model.add(Activation('sigmoid'))    \n",
    "    model.add(Dropout(0.2))                        # Dropout layer after Activation\n",
    "    model.add(Dense(50))\n",
    "    model.add(Activation('sigmoid'))    \n",
    "    model.add(Dropout(0.2))                         # Dropout layer after Activation\n",
    "    model.add(Dense(10))\n",
    "    model.add(Activation('softmax'))\n",
    "    \n",
    "    sgd = optimizers.SGD(lr = 0.001)\n",
    "    model.compile(optimizer = sgd, loss = 'categorical_crossentropy', metrics = ['accuracy'])\n",
    "    \n",
    "    return model"
   ]
  },
  {
   "cell_type": "code",
   "execution_count": 109,
   "metadata": {
    "ExecuteTime": {
     "end_time": "2020-01-21T06:21:00.489259Z",
     "start_time": "2020-01-21T06:19:28.243901Z"
    }
   },
   "outputs": [],
   "source": [
    "model = mlp_model()\n",
    "history = model.fit(X_train, y_train, validation_split = 0.3, epochs = 100, verbose = 0)"
   ]
  },
  {
   "cell_type": "code",
   "execution_count": 110,
   "metadata": {
    "ExecuteTime": {
     "end_time": "2020-01-21T06:21:00.600352Z",
     "start_time": "2020-01-21T06:21:00.505615Z"
    }
   },
   "outputs": [
    {
     "data": {
      "image/png": "[encoded data removed]",
      "text/plain": [
       "<Figure size 432x288 with 1 Axes>"
      ]
     },
     "metadata": {
      "needs_background": "light"
     },
     "output_type": "display_data"
    }
   ],
   "source": [
    "plt.plot(history.history['accuracy'])\n",
    "plt.plot(history.history['val_accuracy'])\n",
    "plt.legend(['training', 'validation'], loc = 'upper left')\n",
    "plt.show()"
   ]
  },
  {
   "cell_type": "code",
   "execution_count": 111,
   "metadata": {
    "ExecuteTime": {
     "end_time": "2020-01-21T06:21:00.917798Z",
     "start_time": "2020-01-21T06:21:00.614250Z"
    }
   },
   "outputs": [
    {
     "name": "stdout",
     "output_type": "stream",
     "text": [
      "10000/10000 [==============================] - 0s 30us/step\n"
     ]
    }
   ],
   "source": [
    "results = model.evaluate(X_test, y_test)"
   ]
  },
  {
   "cell_type": "code",
   "execution_count": 112,
   "metadata": {
    "ExecuteTime": {
     "end_time": "2020-01-21T06:21:00.940378Z",
     "start_time": "2020-01-21T06:21:00.936398Z"
    }
   },
   "outputs": [
    {
     "name": "stdout",
     "output_type": "stream",
     "text": [
      "Test accuracy:  0.11349999904632568\n"
     ]
    }
   ],
   "source": [
    "print('Test accuracy: ', results[1])"
   ]
  },
  {
   "cell_type": "markdown",
   "metadata": {},
   "source": [
    "## 5. Dropout (Regularization)"
   ]
  },
  {
   "cell_type": "code",
   "execution_count": 116,
   "metadata": {
    "ExecuteTime": {
     "end_time": "2020-01-21T06:23:31.406272Z",
     "start_time": "2020-01-21T06:23:31.399206Z"
    }
   },
   "outputs": [],
   "source": [
    "def mlp_model():\n",
    "    model = Sequential()\n",
    "    \n",
    "    model.add(Dense(50, input_shape = (784, )))\n",
    "    model.add(Activation('sigmoid'))    \n",
    "    model.add(Dropout(0.2))                        # Dropout layer after Activation\n",
    "    model.add(Dense(50))\n",
    "    model.add(Activation('sigmoid'))\n",
    "    model.add(Dropout(0.2))                        # Dropout layer after Activation\n",
    "    model.add(Dense(50))\n",
    "    model.add(Activation('sigmoid'))    \n",
    "    model.add(Dropout(0.2))                        # Dropout layer after Activation\n",
    "    model.add(Dense(50))\n",
    "    model.add(Activation('sigmoid'))    \n",
    "    model.add(Dropout(0.2))                         # Dropout layer after Activation\n",
    "    model.add(Dense(10))\n",
    "    model.add(Activation('softmax'))\n",
    "    \n",
    "    sgd = optimizers.SGD(lr = 0.001)\n",
    "    model.compile(optimizer = sgd, loss = 'categorical_crossentropy', metrics = ['accuracy'])\n",
    "    \n",
    "    return model"
   ]
  },
  {
   "cell_type": "code",
   "execution_count": 117,
   "metadata": {
    "ExecuteTime": {
     "end_time": "2020-01-21T06:25:06.424627Z",
     "start_time": "2020-01-21T06:23:31.418874Z"
    }
   },
   "outputs": [],
   "source": [
    "model = mlp_model()\n",
    "history = model.fit(X_train, y_train, validation_split = 0.3, epochs = 100, verbose = 0)"
   ]
  },
  {
   "cell_type": "code",
   "execution_count": 118,
   "metadata": {
    "ExecuteTime": {
     "end_time": "2020-01-21T06:25:06.532342Z",
     "start_time": "2020-01-21T06:25:06.439005Z"
    }
   },
   "outputs": [
    {
     "data": {
      "image/png": "[encoded data removed]",
      "text/plain": [
       "<Figure size 432x288 with 1 Axes>"
      ]
     },
     "metadata": {
      "needs_background": "light"
     },
     "output_type": "display_data"
    }
   ],
   "source": [
    "plt.plot(history.history['accuracy'])\n",
    "plt.plot(history.history['val_accuracy'])\n",
    "plt.legend(['training', 'validation'], loc = 'upper left')\n",
    "plt.show()"
   ]
  },
  {
   "cell_type": "code",
   "execution_count": 119,
   "metadata": {
    "ExecuteTime": {
     "end_time": "2020-01-21T06:25:06.878859Z",
     "start_time": "2020-01-21T06:25:06.545255Z"
    }
   },
   "outputs": [
    {
     "name": "stdout",
     "output_type": "stream",
     "text": [
      "10000/10000 [==============================] - 0s 33us/step\n"
     ]
    }
   ],
   "source": [
    "results = model.evaluate(X_test, y_test)"
   ]
  },
  {
   "cell_type": "code",
   "execution_count": 120,
   "metadata": {
    "ExecuteTime": {
     "end_time": "2020-01-21T06:25:06.898311Z",
     "start_time": "2020-01-21T06:25:06.894322Z"
    }
   },
   "outputs": [
    {
     "name": "stdout",
     "output_type": "stream",
     "text": [
      "Test accuracy:  0.11349999904632568\n"
     ]
    }
   ],
   "source": [
    "print('Test accuracy: ', results[1])"
   ]
  },
  {
   "cell_type": "markdown",
   "metadata": {},
   "source": [
    "## 6. Model Ensemble"
   ]
  },
  {
   "cell_type": "code",
   "execution_count": 121,
   "metadata": {
    "ExecuteTime": {
     "end_time": "2020-01-21T06:25:06.916280Z",
     "start_time": "2020-01-21T06:25:06.911277Z"
    }
   },
   "outputs": [],
   "source": [
    "y_train = np.argmax(y_train, axis = 1)\n",
    "y_test = np.argmax(y_test, axis = 1)"
   ]
  },
  {
   "cell_type": "code",
   "execution_count": 63,
   "metadata": {
    "ExecuteTime": {
     "end_time": "2020-01-21T05:35:00.169066Z",
     "start_time": "2020-01-21T05:35:00.161088Z"
    }
   },
   "outputs": [],
   "source": [
    "def mlp_model():\n",
    "    model = Sequential()\n",
    "    \n",
    "    model.add(Dense(50, input_shape = (784, )))\n",
    "    model.add(Activation('sigmoid'))    \n",
    "    model.add(Dense(50))\n",
    "    model.add(Activation('sigmoid'))    \n",
    "    model.add(Dense(50))\n",
    "    model.add(Activation('sigmoid'))    \n",
    "    model.add(Dense(50))\n",
    "    model.add(Activation('sigmoid'))    \n",
    "    model.add(Dense(10))\n",
    "    model.add(Activation('softmax'))\n",
    "    \n",
    "    sgd = optimizers.SGD(lr = 0.001)\n",
    "    model.compile(optimizer = sgd, loss = 'categorical_crossentropy', metrics = ['accuracy'])\n",
    "    \n",
    "    return model"
   ]
  },
  {
   "cell_type": "code",
   "execution_count": 69,
   "metadata": {
    "ExecuteTime": {
     "end_time": "2020-01-21T05:48:57.273710Z",
     "start_time": "2020-01-21T05:48:57.269784Z"
    }
   },
   "outputs": [],
   "source": [
    "model1 = KerasClassifier(build_fn = mlp_model, epochs = 100, verbose = 1)   #build funcion 에 model data  입력\n",
    "model2 = KerasClassifier(build_fn = mlp_model, epochs = 100, verbose = 1)\n",
    "model3 = KerasClassifier(build_fn = mlp_model, epochs = 100, verbose = 1)"
   ]
  },
  {
   "cell_type": "code",
   "execution_count": 70,
   "metadata": {
    "ExecuteTime": {
     "end_time": "2020-01-21T05:49:00.301724Z",
     "start_time": "2020-01-21T05:49:00.297780Z"
    }
   },
   "outputs": [],
   "source": [
    "ensemble_clf = VotingClassifier(estimators = [\n",
    "    ('model1', model1),\n",
    "    ('model2', model2),\n",
    "    ('model3', model3)], voting = 'soft') #soft, hard, 가중평균, 산술평균"
   ]
  },
  {
   "cell_type": "code",
   "execution_count": 71,
   "metadata": {
    "ExecuteTime": {
     "end_time": "2020-01-21T05:53:09.862536Z",
     "start_time": "2020-01-21T05:49:02.521606Z"
    },
    "scrolled": true
   },
   "outputs": [
    {
     "name": "stdout",
     "output_type": "stream",
     "text": [
      "Epoch 1/100\n",
      "19800/19800 [==============================] - 1s 44us/step - loss: 2.3655 - accuracy: 0.1150\n",
      "Epoch 2/100\n",
      "19800/19800 [==============================] - 1s 39us/step - loss: 2.3095 - accuracy: 0.1055\n",
      "Epoch 3/100\n",
      "19800/19800 [==============================] - 1s 40us/step - loss: 2.3021 - accuracy: 0.1086\n",
      "Epoch 4/100\n",
      "19800/19800 [==============================] - 1s 39us/step - loss: 2.3009 - accuracy: 0.1135\n",
      "Epoch 5/100\n",
      "19800/19800 [==============================] - 1s 39us/step - loss: 2.3005 - accuracy: 0.1135\n",
      "Epoch 6/100\n",
      "19800/19800 [==============================] - 1s 39us/step - loss: 2.3002 - accuracy: 0.1135\n",
      "Epoch 7/100\n",
      "19800/19800 [==============================] - 1s 40us/step - loss: 2.3000 - accuracy: 0.1135\n",
      "Epoch 8/100\n",
      "19800/19800 [==============================] - 1s 40us/step - loss: 2.2997 - accuracy: 0.1135\n",
      "Epoch 9/100\n",
      "19800/19800 [==============================] - 1s 40us/step - loss: 2.2994 - accuracy: 0.1135\n",
      "Epoch 10/100\n",
      "19800/19800 [==============================] - 1s 40us/step - loss: 2.2992 - accuracy: 0.1135\n",
      "Epoch 11/100\n",
      "19800/19800 [==============================] - 1s 39us/step - loss: 2.2989 - accuracy: 0.1135\n",
      "Epoch 12/100\n",
      "19800/19800 [==============================] - 1s 40us/step - loss: 2.2986 - accuracy: 0.1135\n",
      "Epoch 13/100\n",
      "19800/19800 [==============================] - 1s 41us/step - loss: 2.2983 - accuracy: 0.1135 0s - loss: 2.298\n",
      "Epoch 14/100\n",
      "19800/19800 [==============================] - 1s 40us/step - loss: 2.2981 - accuracy: 0.1135\n",
      "Epoch 15/100\n",
      "19800/19800 [==============================] - 1s 40us/step - loss: 2.2978 - accuracy: 0.1135\n",
      "Epoch 16/100\n",
      "19800/19800 [==============================] - 1s 40us/step - loss: 2.2975 - accuracy: 0.1135\n",
      "Epoch 17/100\n",
      "19800/19800 [==============================] - 1s 40us/step - loss: 2.2972 - accuracy: 0.1135\n",
      "Epoch 18/100\n",
      "19800/19800 [==============================] - 1s 41us/step - loss: 2.2970 - accuracy: 0.1135\n",
      "Epoch 19/100\n",
      "19800/19800 [==============================] - 1s 39us/step - loss: 2.2967 - accuracy: 0.1135\n",
      "Epoch 20/100\n",
      "19800/19800 [==============================] - 1s 39us/step - loss: 2.2965 - accuracy: 0.1135\n",
      "Epoch 21/100\n",
      "19800/19800 [==============================] - 1s 39us/step - loss: 2.2962 - accuracy: 0.1135\n",
      "Epoch 22/100\n",
      "19800/19800 [==============================] - 1s 40us/step - loss: 2.2959 - accuracy: 0.1135\n",
      "Epoch 23/100\n",
      "19800/19800 [==============================] - 1s 39us/step - loss: 2.2957 - accuracy: 0.1135\n",
      "Epoch 24/100\n",
      "19800/19800 [==============================] - 1s 39us/step - loss: 2.2954 - accuracy: 0.1135\n",
      "Epoch 25/100\n",
      "19800/19800 [==============================] - 1s 39us/step - loss: 2.2952 - accuracy: 0.1135\n",
      "Epoch 26/100\n",
      "19800/19800 [==============================] - 1s 39us/step - loss: 2.2949 - accuracy: 0.1135\n",
      "Epoch 27/100\n",
      "19800/19800 [==============================] - 1s 39us/step - loss: 2.2946 - accuracy: 0.1135\n",
      "Epoch 28/100\n",
      "19800/19800 [==============================] - 1s 39us/step - loss: 2.2944 - accuracy: 0.1135\n",
      "Epoch 29/100\n",
      "19800/19800 [==============================] - 1s 40us/step - loss: 2.2941 - accuracy: 0.1135\n",
      "Epoch 30/100\n",
      "19800/19800 [==============================] - 1s 40us/step - loss: 2.2938 - accuracy: 0.1135\n",
      "Epoch 31/100\n",
      "19800/19800 [==============================] - 1s 39us/step - loss: 2.2935 - accuracy: 0.1135\n",
      "Epoch 32/100\n",
      "19800/19800 [==============================] - 1s 39us/step - loss: 2.2932 - accuracy: 0.1135\n",
      "Epoch 33/100\n",
      "19800/19800 [==============================] - 1s 38us/step - loss: 2.2929 - accuracy: 0.1135\n",
      "Epoch 34/100\n",
      "19800/19800 [==============================] - 1s 38us/step - loss: 2.2927 - accuracy: 0.1135\n",
      "Epoch 35/100\n",
      "19800/19800 [==============================] - 1s 39us/step - loss: 2.2924 - accuracy: 0.1135\n",
      "Epoch 36/100\n",
      "19800/19800 [==============================] - 1s 39us/step - loss: 2.2921 - accuracy: 0.1135\n",
      "Epoch 37/100\n",
      "19800/19800 [==============================] - 1s 38us/step - loss: 2.2918 - accuracy: 0.1135\n",
      "Epoch 38/100\n",
      "19800/19800 [==============================] - 1s 39us/step - loss: 2.2914 - accuracy: 0.1135\n",
      "Epoch 39/100\n",
      "19800/19800 [==============================] - 1s 38us/step - loss: 2.2911 - accuracy: 0.1135\n",
      "Epoch 40/100\n",
      "19800/19800 [==============================] - 1s 41us/step - loss: 2.2908 - accuracy: 0.1135\n",
      "Epoch 41/100\n",
      "19800/19800 [==============================] - 1s 40us/step - loss: 2.2905 - accuracy: 0.1135\n",
      "Epoch 42/100\n",
      "19800/19800 [==============================] - 1s 40us/step - loss: 2.2901 - accuracy: 0.1135\n",
      "Epoch 43/100\n",
      "19800/19800 [==============================] - 1s 40us/step - loss: 2.2898 - accuracy: 0.1135\n",
      "Epoch 44/100\n",
      "19800/19800 [==============================] - 1s 39us/step - loss: 2.2895 - accuracy: 0.1135\n",
      "Epoch 45/100\n",
      "19800/19800 [==============================] - 1s 39us/step - loss: 2.2891 - accuracy: 0.1135\n",
      "Epoch 46/100\n",
      "19800/19800 [==============================] - 1s 39us/step - loss: 2.2888 - accuracy: 0.1135\n",
      "Epoch 47/100\n",
      "19800/19800 [==============================] - 1s 39us/step - loss: 2.2884 - accuracy: 0.1135\n",
      "Epoch 48/100\n",
      "19800/19800 [==============================] - 1s 39us/step - loss: 2.2880 - accuracy: 0.1135\n",
      "Epoch 49/100\n",
      "19800/19800 [==============================] - 1s 39us/step - loss: 2.2876 - accuracy: 0.1135\n",
      "Epoch 50/100\n",
      "19800/19800 [==============================] - 1s 39us/step - loss: 2.2872 - accuracy: 0.1135\n",
      "Epoch 51/100\n",
      "19800/19800 [==============================] - 1s 39us/step - loss: 2.2868 - accuracy: 0.1135\n",
      "Epoch 52/100\n",
      "19800/19800 [==============================] - 1s 38us/step - loss: 2.2864 - accuracy: 0.1135\n",
      "Epoch 53/100\n",
      "19800/19800 [==============================] - 1s 39us/step - loss: 2.2859 - accuracy: 0.1135\n",
      "Epoch 54/100\n",
      "19800/19800 [==============================] - 1s 39us/step - loss: 2.2855 - accuracy: 0.1135\n",
      "Epoch 55/100\n",
      "19800/19800 [==============================] - 1s 39us/step - loss: 2.2851 - accuracy: 0.1135\n",
      "Epoch 56/100\n",
      "19800/19800 [==============================] - 1s 40us/step - loss: 2.2846 - accuracy: 0.1135\n",
      "Epoch 57/100\n",
      "19800/19800 [==============================] - 1s 39us/step - loss: 2.2841 - accuracy: 0.1135\n",
      "Epoch 58/100\n",
      "19800/19800 [==============================] - 1s 39us/step - loss: 2.2836 - accuracy: 0.1135\n",
      "Epoch 59/100\n",
      "19800/19800 [==============================] - 1s 39us/step - loss: 2.2831 - accuracy: 0.1135\n",
      "Epoch 60/100\n",
      "19800/19800 [==============================] - 1s 40us/step - loss: 2.2826 - accuracy: 0.1135\n",
      "Epoch 61/100\n",
      "19800/19800 [==============================] - 1s 42us/step - loss: 2.2821 - accuracy: 0.1135\n",
      "Epoch 62/100\n",
      "19800/19800 [==============================] - 1s 40us/step - loss: 2.2816 - accuracy: 0.1135\n",
      "Epoch 63/100\n",
      "19800/19800 [==============================] - 1s 39us/step - loss: 2.2810 - accuracy: 0.1135\n",
      "Epoch 64/100\n",
      "19800/19800 [==============================] - 1s 39us/step - loss: 2.2804 - accuracy: 0.1135\n",
      "Epoch 65/100\n",
      "19800/19800 [==============================] - 1s 39us/step - loss: 2.2799 - accuracy: 0.1135\n",
      "Epoch 66/100\n",
      "19800/19800 [==============================] - 1s 39us/step - loss: 2.2793 - accuracy: 0.1136\n",
      "Epoch 67/100\n",
      "19800/19800 [==============================] - 1s 39us/step - loss: 2.2787 - accuracy: 0.1136\n",
      "Epoch 68/100\n",
      "19800/19800 [==============================] - 1s 39us/step - loss: 2.2780 - accuracy: 0.1148\n",
      "Epoch 69/100\n",
      "19800/19800 [==============================] - 1s 39us/step - loss: 2.2774 - accuracy: 0.1135\n",
      "Epoch 70/100\n",
      "19800/19800 [==============================] - 1s 40us/step - loss: 2.2768 - accuracy: 0.1136\n",
      "Epoch 71/100\n",
      "19800/19800 [==============================] - 1s 40us/step - loss: 2.2761 - accuracy: 0.1143\n",
      "Epoch 72/100\n",
      "19800/19800 [==============================] - 1s 40us/step - loss: 2.2754 - accuracy: 0.1142\n",
      "Epoch 73/100\n",
      "19800/19800 [==============================] - 1s 40us/step - loss: 2.2747 - accuracy: 0.1141\n",
      "Epoch 74/100\n",
      "19800/19800 [==============================] - 1s 40us/step - loss: 2.2740 - accuracy: 0.1185\n",
      "Epoch 75/100\n",
      "19800/19800 [==============================] - 1s 39us/step - loss: 2.2732 - accuracy: 0.1191\n",
      "Epoch 76/100\n",
      "19800/19800 [==============================] - 1s 39us/step - loss: 2.2725 - accuracy: 0.1162\n",
      "Epoch 77/100\n",
      "19800/19800 [==============================] - 1s 39us/step - loss: 2.2716 - accuracy: 0.1207\n",
      "Epoch 78/100\n",
      "19800/19800 [==============================] - 1s 40us/step - loss: 2.2708 - accuracy: 0.1270\n",
      "Epoch 79/100\n",
      "19800/19800 [==============================] - 1s 40us/step - loss: 2.2699 - accuracy: 0.1292\n",
      "Epoch 80/100\n",
      "19800/19800 [==============================] - 1s 40us/step - loss: 2.2690 - accuracy: 0.1219\n",
      "Epoch 81/100\n",
      "19800/19800 [==============================] - 1s 40us/step - loss: 2.2681 - accuracy: 0.1311\n",
      "Epoch 82/100\n",
      "19800/19800 [==============================] - 1s 39us/step - loss: 2.2671 - accuracy: 0.1320\n",
      "Epoch 83/100\n",
      "19800/19800 [==============================] - 1s 39us/step - loss: 2.2660 - accuracy: 0.1781\n",
      "Epoch 84/100\n",
      "19800/19800 [==============================] - 1s 39us/step - loss: 2.2650 - accuracy: 0.1354\n",
      "Epoch 85/100\n",
      "19800/19800 [==============================] - 1s 39us/step - loss: 2.2639 - accuracy: 0.1883\n",
      "Epoch 86/100\n",
      "19800/19800 [==============================] - 1s 39us/step - loss: 2.2627 - accuracy: 0.1943\n",
      "Epoch 87/100\n",
      "19800/19800 [==============================] - 1s 39us/step - loss: 2.2615 - accuracy: 0.1793\n",
      "Epoch 88/100\n",
      "19800/19800 [==============================] - 1s 39us/step - loss: 2.2603 - accuracy: 0.1874\n",
      "Epoch 89/100\n",
      "19800/19800 [==============================] - 1s 39us/step - loss: 2.2589 - accuracy: 0.1871\n",
      "Epoch 90/100\n",
      "19800/19800 [==============================] - 1s 39us/step - loss: 2.2575 - accuracy: 0.2194\n",
      "Epoch 91/100\n",
      "19800/19800 [==============================] - 1s 39us/step - loss: 2.2561 - accuracy: 0.2099\n",
      "Epoch 92/100\n",
      "19800/19800 [==============================] - 1s 39us/step - loss: 2.2546 - accuracy: 0.2421\n",
      "Epoch 93/100\n",
      "19800/19800 [==============================] - 1s 39us/step - loss: 2.2530 - accuracy: 0.2418\n",
      "Epoch 94/100\n",
      "19800/19800 [==============================] - 1s 40us/step - loss: 2.2514 - accuracy: 0.2650\n",
      "Epoch 95/100\n",
      "19800/19800 [==============================] - 1s 39us/step - loss: 2.2497 - accuracy: 0.2691\n",
      "Epoch 96/100\n",
      "19800/19800 [==============================] - 1s 39us/step - loss: 2.2480 - accuracy: 0.2710\n",
      "Epoch 97/100\n",
      "19800/19800 [==============================] - 1s 39us/step - loss: 2.2461 - accuracy: 0.2906\n",
      "Epoch 98/100\n",
      "19800/19800 [==============================] - 1s 39us/step - loss: 2.2442 - accuracy: 0.2817\n",
      "Epoch 99/100\n",
      "19800/19800 [==============================] - 1s 39us/step - loss: 2.2423 - accuracy: 0.2859\n",
      "Epoch 100/100\n",
      "19800/19800 [==============================] - 1s 39us/step - loss: 2.2402 - accuracy: 0.3201\n",
      "Epoch 1/100\n",
      "19800/19800 [==============================] - 1s 48us/step - loss: 2.3984 - accuracy: 0.0889\n",
      "Epoch 2/100\n",
      "19800/19800 [==============================] - 1s 42us/step - loss: 2.3178 - accuracy: 0.1128\n",
      "Epoch 3/100\n",
      "19800/19800 [==============================] - 1s 41us/step - loss: 2.3034 - accuracy: 0.1135\n",
      "Epoch 4/100\n",
      "19800/19800 [==============================] - 1s 42us/step - loss: 2.3006 - accuracy: 0.1135\n",
      "Epoch 5/100\n",
      "19800/19800 [==============================] - 1s 41us/step - loss: 2.3000 - accuracy: 0.1135\n",
      "Epoch 6/100\n",
      "19800/19800 [==============================] - 1s 42us/step - loss: 2.2997 - accuracy: 0.1135\n",
      "Epoch 7/100\n",
      "19800/19800 [==============================] - 1s 42us/step - loss: 2.2994 - accuracy: 0.1135\n",
      "Epoch 8/100\n",
      "19800/19800 [==============================] - 1s 42us/step - loss: 2.2992 - accuracy: 0.1135\n",
      "Epoch 9/100\n",
      "19800/19800 [==============================] - 1s 44us/step - loss: 2.2989 - accuracy: 0.1135\n",
      "Epoch 10/100\n",
      "19800/19800 [==============================] - 1s 43us/step - loss: 2.2987 - accuracy: 0.1135\n",
      "Epoch 11/100\n",
      "19800/19800 [==============================] - 1s 42us/step - loss: 2.2984 - accuracy: 0.1135\n",
      "Epoch 12/100\n",
      "19800/19800 [==============================] - 1s 41us/step - loss: 2.2982 - accuracy: 0.1135\n",
      "Epoch 13/100\n",
      "19800/19800 [==============================] - 1s 43us/step - loss: 2.2979 - accuracy: 0.1135\n",
      "Epoch 14/100\n",
      "19800/19800 [==============================] - 1s 41us/step - loss: 2.2976 - accuracy: 0.1135\n",
      "Epoch 15/100\n",
      "19800/19800 [==============================] - 1s 41us/step - loss: 2.2974 - accuracy: 0.1135\n",
      "Epoch 16/100\n",
      "19800/19800 [==============================] - 1s 41us/step - loss: 2.2972 - accuracy: 0.1135\n",
      "Epoch 17/100\n",
      "19800/19800 [==============================] - 1s 41us/step - loss: 2.2970 - accuracy: 0.1135\n",
      "Epoch 18/100\n",
      "19800/19800 [==============================] - 1s 41us/step - loss: 2.2967 - accuracy: 0.1135\n",
      "Epoch 19/100\n",
      "19800/19800 [==============================] - 1s 40us/step - loss: 2.2965 - accuracy: 0.1135\n",
      "Epoch 20/100\n",
      "19800/19800 [==============================] - 1s 41us/step - loss: 2.2963 - accuracy: 0.1135\n",
      "Epoch 21/100\n",
      "19800/19800 [==============================] - 1s 44us/step - loss: 2.2960 - accuracy: 0.1135\n",
      "Epoch 22/100\n",
      "19800/19800 [==============================] - 1s 43us/step - loss: 2.2958 - accuracy: 0.1135\n",
      "Epoch 23/100\n",
      "19800/19800 [==============================] - 1s 43us/step - loss: 2.2956 - accuracy: 0.1135\n",
      "Epoch 24/100\n",
      "19800/19800 [==============================] - 1s 44us/step - loss: 2.2953 - accuracy: 0.1135\n",
      "Epoch 25/100\n",
      "19800/19800 [==============================] - 1s 44us/step - loss: 2.2951 - accuracy: 0.1135\n",
      "Epoch 26/100\n",
      "19800/19800 [==============================] - 1s 43us/step - loss: 2.2948 - accuracy: 0.1135\n",
      "Epoch 27/100\n",
      "19800/19800 [==============================] - 1s 42us/step - loss: 2.2946 - accuracy: 0.1135\n",
      "Epoch 28/100\n",
      "19800/19800 [==============================] - 1s 43us/step - loss: 2.2944 - accuracy: 0.1135\n",
      "Epoch 29/100\n",
      "19800/19800 [==============================] - 1s 42us/step - loss: 2.2941 - accuracy: 0.1135\n",
      "Epoch 30/100\n",
      "19800/19800 [==============================] - 1s 44us/step - loss: 2.2939 - accuracy: 0.1135\n",
      "Epoch 31/100\n",
      "19800/19800 [==============================] - 1s 43us/step - loss: 2.2936 - accuracy: 0.1135\n",
      "Epoch 32/100\n",
      "19800/19800 [==============================] - 1s 42us/step - loss: 2.2934 - accuracy: 0.1135\n",
      "Epoch 33/100\n",
      "19800/19800 [==============================] - 1s 42us/step - loss: 2.2931 - accuracy: 0.1135\n",
      "Epoch 34/100\n",
      "19800/19800 [==============================] - 1s 42us/step - loss: 2.2929 - accuracy: 0.1135\n",
      "Epoch 35/100\n",
      "19800/19800 [==============================] - 1s 42us/step - loss: 2.2926 - accuracy: 0.1135\n",
      "Epoch 36/100\n",
      "19800/19800 [==============================] - 1s 44us/step - loss: 2.2923 - accuracy: 0.1135\n",
      "Epoch 37/100\n",
      "19800/19800 [==============================] - 1s 42us/step - loss: 2.2921 - accuracy: 0.1135\n",
      "Epoch 38/100\n",
      "19800/19800 [==============================] - 1s 42us/step - loss: 2.2918 - accuracy: 0.1135\n",
      "Epoch 39/100\n",
      "19800/19800 [==============================] - 1s 42us/step - loss: 2.2915 - accuracy: 0.1135\n",
      "Epoch 40/100\n",
      "19800/19800 [==============================] - 1s 42us/step - loss: 2.2912 - accuracy: 0.1135\n",
      "Epoch 41/100\n",
      "19800/19800 [==============================] - 1s 42us/step - loss: 2.2909 - accuracy: 0.1135\n",
      "Epoch 42/100\n",
      "19800/19800 [==============================] - 1s 42us/step - loss: 2.2906 - accuracy: 0.1135\n",
      "Epoch 43/100\n",
      "19800/19800 [==============================] - 1s 42us/step - loss: 2.2903 - accuracy: 0.1135\n",
      "Epoch 44/100\n",
      "19800/19800 [==============================] - 1s 42us/step - loss: 2.2900 - accuracy: 0.1135\n",
      "Epoch 45/100\n",
      "19800/19800 [==============================] - 1s 43us/step - loss: 2.2896 - accuracy: 0.1135\n",
      "Epoch 46/100\n",
      "19800/19800 [==============================] - 1s 42us/step - loss: 2.2893 - accuracy: 0.1135\n",
      "Epoch 47/100\n",
      "19800/19800 [==============================] - 1s 42us/step - loss: 2.2889 - accuracy: 0.1135\n",
      "Epoch 48/100\n",
      "19800/19800 [==============================] - 1s 42us/step - loss: 2.2886 - accuracy: 0.1135\n",
      "Epoch 49/100\n",
      "19800/19800 [==============================] - 1s 42us/step - loss: 2.2882 - accuracy: 0.1135\n",
      "Epoch 50/100\n",
      "19800/19800 [==============================] - 1s 42us/step - loss: 2.2879 - accuracy: 0.1135\n",
      "Epoch 51/100\n",
      "19800/19800 [==============================] - 1s 43us/step - loss: 2.2875 - accuracy: 0.1135\n",
      "Epoch 52/100\n",
      "19800/19800 [==============================] - 1s 43us/step - loss: 2.2871 - accuracy: 0.1135\n",
      "Epoch 53/100\n"
     ]
    },
    {
     "name": "stdout",
     "output_type": "stream",
     "text": [
      "19800/19800 [==============================] - 1s 43us/step - loss: 2.2867 - accuracy: 0.1135\n",
      "Epoch 54/100\n",
      "19800/19800 [==============================] - 1s 43us/step - loss: 2.2863 - accuracy: 0.1135\n",
      "Epoch 55/100\n",
      "19800/19800 [==============================] - 1s 43us/step - loss: 2.2858 - accuracy: 0.1135\n",
      "Epoch 56/100\n",
      "19800/19800 [==============================] - 1s 43us/step - loss: 2.2854 - accuracy: 0.1136\n",
      "Epoch 57/100\n",
      "19800/19800 [==============================] - 1s 42us/step - loss: 2.2850 - accuracy: 0.1135\n",
      "Epoch 58/100\n",
      "19800/19800 [==============================] - 1s 42us/step - loss: 2.2845 - accuracy: 0.1135\n",
      "Epoch 59/100\n",
      "19800/19800 [==============================] - 1s 42us/step - loss: 2.2841 - accuracy: 0.1135\n",
      "Epoch 60/100\n",
      "19800/19800 [==============================] - 1s 42us/step - loss: 2.2836 - accuracy: 0.1135\n",
      "Epoch 61/100\n",
      "19800/19800 [==============================] - 1s 42us/step - loss: 2.2831 - accuracy: 0.1136\n",
      "Epoch 62/100\n",
      "19800/19800 [==============================] - 1s 41us/step - loss: 2.2826 - accuracy: 0.1135\n",
      "Epoch 63/100\n",
      "19800/19800 [==============================] - 1s 42us/step - loss: 2.2821 - accuracy: 0.1135\n",
      "Epoch 64/100\n",
      "19800/19800 [==============================] - 1s 43us/step - loss: 2.2815 - accuracy: 0.1135\n",
      "Epoch 65/100\n",
      "19800/19800 [==============================] - 1s 44us/step - loss: 2.2810 - accuracy: 0.1135\n",
      "Epoch 66/100\n",
      "19800/19800 [==============================] - 1s 42us/step - loss: 2.2804 - accuracy: 0.1135\n",
      "Epoch 67/100\n",
      "19800/19800 [==============================] - 1s 41us/step - loss: 2.2798 - accuracy: 0.1136\n",
      "Epoch 68/100\n",
      "19800/19800 [==============================] - 1s 42us/step - loss: 2.2792 - accuracy: 0.1135\n",
      "Epoch 69/100\n",
      "19800/19800 [==============================] - 1s 42us/step - loss: 2.2785 - accuracy: 0.1136\n",
      "Epoch 70/100\n",
      "19800/19800 [==============================] - 1s 43us/step - loss: 2.2779 - accuracy: 0.1136\n",
      "Epoch 71/100\n",
      "19800/19800 [==============================] - 1s 42us/step - loss: 2.2772 - accuracy: 0.1142\n",
      "Epoch 72/100\n",
      "19800/19800 [==============================] - 1s 42us/step - loss: 2.2765 - accuracy: 0.1145\n",
      "Epoch 73/100\n",
      "19800/19800 [==============================] - 1s 43us/step - loss: 2.2758 - accuracy: 0.1146\n",
      "Epoch 74/100\n",
      "19800/19800 [==============================] - 1s 42us/step - loss: 2.2750 - accuracy: 0.1168\n",
      "Epoch 75/100\n",
      "19800/19800 [==============================] - 1s 42us/step - loss: 2.2742 - accuracy: 0.1144\n",
      "Epoch 76/100\n",
      "19800/19800 [==============================] - 1s 42us/step - loss: 2.2734 - accuracy: 0.1197\n",
      "Epoch 77/100\n",
      "19800/19800 [==============================] - 1s 43us/step - loss: 2.2725 - accuracy: 0.1176\n",
      "Epoch 78/100\n",
      "19800/19800 [==============================] - 1s 44us/step - loss: 2.2716 - accuracy: 0.1198\n",
      "Epoch 79/100\n",
      "19800/19800 [==============================] - 1s 43us/step - loss: 2.2707 - accuracy: 0.1238\n",
      "Epoch 80/100\n",
      "19800/19800 [==============================] - 1s 42us/step - loss: 2.2697 - accuracy: 0.1307\n",
      "Epoch 81/100\n",
      "19800/19800 [==============================] - 1s 43us/step - loss: 2.2688 - accuracy: 0.1187\n",
      "Epoch 82/100\n",
      "19800/19800 [==============================] - 1s 43us/step - loss: 2.2678 - accuracy: 0.1470\n",
      "Epoch 83/100\n",
      "19800/19800 [==============================] - 1s 44us/step - loss: 2.2666 - accuracy: 0.1425\n",
      "Epoch 84/100\n",
      "19800/19800 [==============================] - 1s 43us/step - loss: 2.2655 - accuracy: 0.1393\n",
      "Epoch 85/100\n",
      "19800/19800 [==============================] - 1s 42us/step - loss: 2.2643 - accuracy: 0.1454\n",
      "Epoch 86/100\n",
      "19800/19800 [==============================] - 1s 42us/step - loss: 2.2631 - accuracy: 0.1540\n",
      "Epoch 87/100\n",
      "19800/19800 [==============================] - 1s 42us/step - loss: 2.2618 - accuracy: 0.1617\n",
      "Epoch 88/100\n",
      "19800/19800 [==============================] - 1s 42us/step - loss: 2.2605 - accuracy: 0.1595\n",
      "Epoch 89/100\n",
      "19800/19800 [==============================] - 1s 44us/step - loss: 2.2591 - accuracy: 0.1564\n",
      "Epoch 90/100\n",
      "19800/19800 [==============================] - 1s 43us/step - loss: 2.2576 - accuracy: 0.1789\n",
      "Epoch 91/100\n",
      "19800/19800 [==============================] - 1s 43us/step - loss: 2.2561 - accuracy: 0.1778\n",
      "Epoch 92/100\n",
      "19800/19800 [==============================] - 1s 42us/step - loss: 2.2545 - accuracy: 0.1759\n",
      "Epoch 93/100\n",
      "19800/19800 [==============================] - 1s 42us/step - loss: 2.2528 - accuracy: 0.1824\n",
      "Epoch 94/100\n",
      "19800/19800 [==============================] - 1s 43us/step - loss: 2.2510 - accuracy: 0.1791\n",
      "Epoch 95/100\n",
      "19800/19800 [==============================] - 1s 44us/step - loss: 2.2492 - accuracy: 0.1813\n",
      "Epoch 96/100\n",
      "19800/19800 [==============================] - 1s 42us/step - loss: 2.2472 - accuracy: 0.1928\n",
      "Epoch 97/100\n",
      "19800/19800 [==============================] - 1s 42us/step - loss: 2.2452 - accuracy: 0.1942\n",
      "Epoch 98/100\n",
      "19800/19800 [==============================] - 1s 43us/step - loss: 2.2431 - accuracy: 0.1962\n",
      "Epoch 99/100\n",
      "19800/19800 [==============================] - 1s 43us/step - loss: 2.2408 - accuracy: 0.1960\n",
      "Epoch 100/100\n",
      "19800/19800 [==============================] - 1s 43us/step - loss: 2.2385 - accuracy: 0.2102\n",
      "Epoch 1/100\n",
      "19800/19800 [==============================] - 1s 48us/step - loss: 2.4321 - accuracy: 0.0996\n",
      "Epoch 2/100\n",
      "19800/19800 [==============================] - 1s 42us/step - loss: 2.3195 - accuracy: 0.1168\n",
      "Epoch 3/100\n",
      "19800/19800 [==============================] - 1s 42us/step - loss: 2.3020 - accuracy: 0.1135\n",
      "Epoch 4/100\n",
      "19800/19800 [==============================] - 1s 42us/step - loss: 2.2987 - accuracy: 0.1135\n",
      "Epoch 5/100\n",
      "19800/19800 [==============================] - 1s 41us/step - loss: 2.2980 - accuracy: 0.1135\n",
      "Epoch 6/100\n",
      "19800/19800 [==============================] - 1s 41us/step - loss: 2.2976 - accuracy: 0.1135\n",
      "Epoch 7/100\n",
      "19800/19800 [==============================] - 1s 41us/step - loss: 2.2974 - accuracy: 0.1135\n",
      "Epoch 8/100\n",
      "19800/19800 [==============================] - 1s 41us/step - loss: 2.2971 - accuracy: 0.1135\n",
      "Epoch 9/100\n",
      "19800/19800 [==============================] - 1s 41us/step - loss: 2.2969 - accuracy: 0.1135\n",
      "Epoch 10/100\n",
      "19800/19800 [==============================] - 1s 41us/step - loss: 2.2966 - accuracy: 0.1135\n",
      "Epoch 11/100\n",
      "19800/19800 [==============================] - 1s 41us/step - loss: 2.2964 - accuracy: 0.1135\n",
      "Epoch 12/100\n",
      "19800/19800 [==============================] - 1s 42us/step - loss: 2.2961 - accuracy: 0.1135\n",
      "Epoch 13/100\n",
      "19800/19800 [==============================] - 1s 42us/step - loss: 2.2959 - accuracy: 0.1135\n",
      "Epoch 14/100\n",
      "19800/19800 [==============================] - 1s 42us/step - loss: 2.2956 - accuracy: 0.1135\n",
      "Epoch 15/100\n",
      "19800/19800 [==============================] - 1s 42us/step - loss: 2.2954 - accuracy: 0.1135\n",
      "Epoch 16/100\n",
      "19800/19800 [==============================] - 1s 42us/step - loss: 2.2951 - accuracy: 0.1135\n",
      "Epoch 17/100\n",
      "19800/19800 [==============================] - 1s 42us/step - loss: 2.2948 - accuracy: 0.1135\n",
      "Epoch 18/100\n",
      "19800/19800 [==============================] - 1s 42us/step - loss: 2.2946 - accuracy: 0.1135\n",
      "Epoch 19/100\n",
      "19800/19800 [==============================] - 1s 43us/step - loss: 2.2943 - accuracy: 0.1135\n",
      "Epoch 20/100\n",
      "19800/19800 [==============================] - 1s 42us/step - loss: 2.2941 - accuracy: 0.1135\n",
      "Epoch 21/100\n",
      "19800/19800 [==============================] - 1s 41us/step - loss: 2.2938 - accuracy: 0.1135\n",
      "Epoch 22/100\n",
      "19800/19800 [==============================] - 1s 41us/step - loss: 2.2935 - accuracy: 0.1135\n",
      "Epoch 23/100\n",
      "19800/19800 [==============================] - 1s 42us/step - loss: 2.2932 - accuracy: 0.1135\n",
      "Epoch 24/100\n",
      "19800/19800 [==============================] - 1s 42us/step - loss: 2.2929 - accuracy: 0.1135\n",
      "Epoch 25/100\n",
      "19800/19800 [==============================] - 1s 42us/step - loss: 2.2927 - accuracy: 0.1135\n",
      "Epoch 26/100\n",
      "19800/19800 [==============================] - 1s 41us/step - loss: 2.2924 - accuracy: 0.1135\n",
      "Epoch 27/100\n",
      "19800/19800 [==============================] - 1s 42us/step - loss: 2.2921 - accuracy: 0.1135\n",
      "Epoch 28/100\n",
      "19800/19800 [==============================] - 1s 42us/step - loss: 2.2918 - accuracy: 0.1135\n",
      "Epoch 29/100\n",
      "19800/19800 [==============================] - 1s 43us/step - loss: 2.2915 - accuracy: 0.1135\n",
      "Epoch 30/100\n",
      "19800/19800 [==============================] - 1s 44us/step - loss: 2.2912 - accuracy: 0.1135\n",
      "Epoch 31/100\n",
      "19800/19800 [==============================] - 1s 43us/step - loss: 2.2909 - accuracy: 0.1135\n",
      "Epoch 32/100\n",
      "19800/19800 [==============================] - 1s 43us/step - loss: 2.2906 - accuracy: 0.1135\n",
      "Epoch 33/100\n",
      "19800/19800 [==============================] - 1s 42us/step - loss: 2.2903 - accuracy: 0.1135\n",
      "Epoch 34/100\n",
      "19800/19800 [==============================] - 1s 43us/step - loss: 2.2899 - accuracy: 0.1135\n",
      "Epoch 35/100\n",
      "19800/19800 [==============================] - 1s 43us/step - loss: 2.2896 - accuracy: 0.1135\n",
      "Epoch 36/100\n",
      "19800/19800 [==============================] - 1s 43us/step - loss: 2.2893 - accuracy: 0.1135\n",
      "Epoch 37/100\n",
      "19800/19800 [==============================] - 1s 43us/step - loss: 2.2889 - accuracy: 0.1135\n",
      "Epoch 38/100\n",
      "19800/19800 [==============================] - 1s 41us/step - loss: 2.2886 - accuracy: 0.1135 0s -\n",
      "Epoch 39/100\n",
      "19800/19800 [==============================] - 1s 41us/step - loss: 2.2883 - accuracy: 0.1135\n",
      "Epoch 40/100\n",
      "19800/19800 [==============================] - 1s 43us/step - loss: 2.2879 - accuracy: 0.1135\n",
      "Epoch 41/100\n",
      "19800/19800 [==============================] - 1s 42us/step - loss: 2.2876 - accuracy: 0.1135\n",
      "Epoch 42/100\n",
      "19800/19800 [==============================] - 1s 42us/step - loss: 2.2872 - accuracy: 0.1135\n",
      "Epoch 43/100\n",
      "19800/19800 [==============================] - 1s 42us/step - loss: 2.2868 - accuracy: 0.1135\n",
      "Epoch 44/100\n",
      "19800/19800 [==============================] - 1s 42us/step - loss: 2.2864 - accuracy: 0.1135\n",
      "Epoch 45/100\n",
      "19800/19800 [==============================] - 1s 41us/step - loss: 2.2860 - accuracy: 0.1135\n",
      "Epoch 46/100\n",
      "19800/19800 [==============================] - 1s 41us/step - loss: 2.2856 - accuracy: 0.1135\n",
      "Epoch 47/100\n",
      "19800/19800 [==============================] - 1s 42us/step - loss: 2.2852 - accuracy: 0.1135\n",
      "Epoch 48/100\n",
      "19800/19800 [==============================] - 1s 41us/step - loss: 2.2848 - accuracy: 0.1135\n",
      "Epoch 49/100\n",
      "19800/19800 [==============================] - 1s 41us/step - loss: 2.2843 - accuracy: 0.1135\n",
      "Epoch 50/100\n",
      "19800/19800 [==============================] - 1s 42us/step - loss: 2.2839 - accuracy: 0.1135\n",
      "Epoch 51/100\n",
      "19800/19800 [==============================] - 1s 41us/step - loss: 2.2834 - accuracy: 0.1135\n",
      "Epoch 52/100\n",
      "19800/19800 [==============================] - 1s 42us/step - loss: 2.2830 - accuracy: 0.1135\n",
      "Epoch 53/100\n",
      "19800/19800 [==============================] - 1s 41us/step - loss: 2.2825 - accuracy: 0.1135\n",
      "Epoch 54/100\n",
      "19800/19800 [==============================] - 1s 42us/step - loss: 2.2820 - accuracy: 0.1135\n",
      "Epoch 55/100\n",
      "19800/19800 [==============================] - 1s 42us/step - loss: 2.2815 - accuracy: 0.1135\n",
      "Epoch 56/100\n",
      "19800/19800 [==============================] - 1s 43us/step - loss: 2.2810 - accuracy: 0.1135\n",
      "Epoch 57/100\n",
      "19800/19800 [==============================] - 1s 41us/step - loss: 2.2805 - accuracy: 0.1135 0s - l\n",
      "Epoch 58/100\n",
      "19800/19800 [==============================] - 1s 41us/step - loss: 2.2800 - accuracy: 0.1135\n",
      "Epoch 59/100\n",
      "19800/19800 [==============================] - 1s 41us/step - loss: 2.2794 - accuracy: 0.1135\n",
      "Epoch 60/100\n",
      "19800/19800 [==============================] - 1s 41us/step - loss: 2.2789 - accuracy: 0.1135\n",
      "Epoch 61/100\n",
      "19800/19800 [==============================] - 1s 42us/step - loss: 2.2783 - accuracy: 0.1135\n",
      "Epoch 62/100\n",
      "19800/19800 [==============================] - 1s 42us/step - loss: 2.2777 - accuracy: 0.1135\n",
      "Epoch 63/100\n",
      "19800/19800 [==============================] - 1s 42us/step - loss: 2.2771 - accuracy: 0.1135\n",
      "Epoch 64/100\n",
      "19800/19800 [==============================] - 1s 42us/step - loss: 2.2765 - accuracy: 0.1136\n",
      "Epoch 65/100\n",
      "19800/19800 [==============================] - 1s 43us/step - loss: 2.2759 - accuracy: 0.1135\n",
      "Epoch 66/100\n",
      "19800/19800 [==============================] - 1s 42us/step - loss: 2.2753 - accuracy: 0.1136\n",
      "Epoch 67/100\n",
      "19800/19800 [==============================] - 1s 42us/step - loss: 2.2746 - accuracy: 0.1136\n",
      "Epoch 68/100\n",
      "19800/19800 [==============================] - 1s 42us/step - loss: 2.2739 - accuracy: 0.1142\n",
      "Epoch 69/100\n",
      "19800/19800 [==============================] - 1s 42us/step - loss: 2.2733 - accuracy: 0.1138\n",
      "Epoch 70/100\n",
      "19800/19800 [==============================] - 1s 42us/step - loss: 2.2725 - accuracy: 0.1136\n",
      "Epoch 71/100\n",
      "19800/19800 [==============================] - 1s 42us/step - loss: 2.2718 - accuracy: 0.1142\n",
      "Epoch 72/100\n",
      "19800/19800 [==============================] - 1s 42us/step - loss: 2.2711 - accuracy: 0.1179\n",
      "Epoch 73/100\n",
      "19800/19800 [==============================] - 1s 42us/step - loss: 2.2703 - accuracy: 0.1199\n",
      "Epoch 74/100\n",
      "19800/19800 [==============================] - 1s 42us/step - loss: 2.2695 - accuracy: 0.1142\n",
      "Epoch 75/100\n",
      "19800/19800 [==============================] - 1s 42us/step - loss: 2.2687 - accuracy: 0.1147\n",
      "Epoch 76/100\n",
      "19800/19800 [==============================] - 1s 42us/step - loss: 2.2679 - accuracy: 0.1265\n",
      "Epoch 77/100\n",
      "19800/19800 [==============================] - 1s 42us/step - loss: 2.2670 - accuracy: 0.1179\n",
      "Epoch 78/100\n",
      "19800/19800 [==============================] - 1s 42us/step - loss: 2.2661 - accuracy: 0.1182\n",
      "Epoch 79/100\n",
      "19800/19800 [==============================] - 1s 42us/step - loss: 2.2652 - accuracy: 0.1570\n",
      "Epoch 80/100\n",
      "19800/19800 [==============================] - 1s 41us/step - loss: 2.2643 - accuracy: 0.1539\n",
      "Epoch 81/100\n",
      "19800/19800 [==============================] - 1s 41us/step - loss: 2.2634 - accuracy: 0.1217\n",
      "Epoch 82/100\n",
      "19800/19800 [==============================] - 1s 41us/step - loss: 2.2624 - accuracy: 0.1307\n",
      "Epoch 83/100\n",
      "19800/19800 [==============================] - 1s 42us/step - loss: 2.2614 - accuracy: 0.1491\n",
      "Epoch 84/100\n",
      "19800/19800 [==============================] - 1s 42us/step - loss: 2.2603 - accuracy: 0.1864\n",
      "Epoch 85/100\n",
      "19800/19800 [==============================] - 1s 42us/step - loss: 2.2593 - accuracy: 0.1615\n",
      "Epoch 86/100\n",
      "19800/19800 [==============================] - 1s 42us/step - loss: 2.2582 - accuracy: 0.1787\n",
      "Epoch 87/100\n",
      "19800/19800 [==============================] - 1s 42us/step - loss: 2.2571 - accuracy: 0.2073\n",
      "Epoch 88/100\n",
      "19800/19800 [==============================] - 1s 42us/step - loss: 2.2559 - accuracy: 0.1902\n",
      "Epoch 89/100\n",
      "19800/19800 [==============================] - 1s 42us/step - loss: 2.2547 - accuracy: 0.2323\n",
      "Epoch 90/100\n",
      "19800/19800 [==============================] - 1s 43us/step - loss: 2.2534 - accuracy: 0.2194\n",
      "Epoch 91/100\n",
      "19800/19800 [==============================] - 1s 41us/step - loss: 2.2521 - accuracy: 0.2157\n",
      "Epoch 92/100\n",
      "19800/19800 [==============================] - 1s 41us/step - loss: 2.2508 - accuracy: 0.2239\n",
      "Epoch 93/100\n",
      "19800/19800 [==============================] - 1s 42us/step - loss: 2.2494 - accuracy: 0.2500\n",
      "Epoch 94/100\n",
      "19800/19800 [==============================] - 1s 42us/step - loss: 2.2480 - accuracy: 0.2543\n",
      "Epoch 95/100\n",
      "19800/19800 [==============================] - 1s 44us/step - loss: 2.2465 - accuracy: 0.2334\n",
      "Epoch 96/100\n",
      "19800/19800 [==============================] - 1s 43us/step - loss: 2.2450 - accuracy: 0.2659\n",
      "Epoch 97/100\n",
      "19800/19800 [==============================] - 1s 41us/step - loss: 2.2434 - accuracy: 0.2592\n",
      "Epoch 98/100\n",
      "19800/19800 [==============================] - 1s 43us/step - loss: 2.2418 - accuracy: 0.2660\n",
      "Epoch 99/100\n",
      "19800/19800 [==============================] - 1s 42us/step - loss: 2.2400 - accuracy: 0.2662\n",
      "Epoch 100/100\n",
      "19800/19800 [==============================] - 1s 42us/step - loss: 2.2383 - accuracy: 0.2742\n"
     ]
    },
    {
     "data": {
      "text/plain": [
       "VotingClassifier(estimators=[('model1',\n",
       "                              <keras.wrappers.scikit_learn.KerasClassifier object at 0x000001FB1083AD48>),\n",
       "                             ('model2',\n",
       "                              <keras.wrappers.scikit_learn.KerasClassifier object at 0x000001FB1083AD08>),\n",
       "                             ('model3',\n",
       "                              <keras.wrappers.scikit_learn.KerasClassifier object at 0x000001FB1083AD88>)],\n",
       "                 flatten_transform=True, n_jobs=None, voting='soft',\n",
       "                 weights=None)"
      ]
     },
     "execution_count": 71,
     "metadata": {},
     "output_type": "execute_result"
    }
   ],
   "source": [
    "ensemble_clf.fit(X_train, y_train)"
   ]
  },
  {
   "cell_type": "code",
   "execution_count": 72,
   "metadata": {
    "ExecuteTime": {
     "end_time": "2020-01-21T05:53:19.240446Z",
     "start_time": "2020-01-21T05:53:18.098029Z"
    }
   },
   "outputs": [
    {
     "name": "stdout",
     "output_type": "stream",
     "text": [
      "10000/10000 [==============================] - 0s 38us/step\n",
      "10000/10000 [==============================] - 0s 38us/step\n",
      "10000/10000 [==============================] - 0s 37us/step\n"
     ]
    }
   ],
   "source": [
    "y_pred = ensemble_clf.predict(X_test)"
   ]
  },
  {
   "cell_type": "code",
   "execution_count": 73,
   "metadata": {
    "ExecuteTime": {
     "end_time": "2020-01-21T05:53:22.268242Z",
     "start_time": "2020-01-21T05:53:22.264252Z"
    }
   },
   "outputs": [
    {
     "name": "stdout",
     "output_type": "stream",
     "text": [
      "Test accuracy: 0.2633\n"
     ]
    }
   ],
   "source": [
    "print('Test accuracy:', accuracy_score(y_pred, y_test))"
   ]
  },
  {
   "cell_type": "markdown",
   "metadata": {},
   "source": [
    "# Advanced MLP - 2\n",
    "    - More training set\n",
    "    - Weight Initialization scheme\n",
    "    - Nonlinearity (Activation function)\n",
    "    - Optimizers: adaptvie\n",
    "    - Batch Normalization\n",
    "    - Dropout (Regularization)\n",
    "    - Model Ensemble"
   ]
  },
  {
   "cell_type": "code",
   "execution_count": 122,
   "metadata": {
    "ExecuteTime": {
     "end_time": "2020-01-21T06:25:07.147646Z",
     "start_time": "2020-01-21T06:25:06.931223Z"
    }
   },
   "outputs": [
    {
     "name": "stdout",
     "output_type": "stream",
     "text": [
      "(60000, 784)\n",
      "(10000, 784)\n",
      "(60000,)\n",
      "(10000,)\n"
     ]
    }
   ],
   "source": [
    "(X_train, y_train), (X_test, y_test) = mnist.load_data()\n",
    "# reshaping X data: (n, 28, 28) => (n, 784)\n",
    "X_train = X_train.reshape((X_train.shape[0], X_train.shape[1] * X_train.shape[2]))\n",
    "X_test = X_test.reshape((X_test.shape[0], X_test.shape[1] * X_test.shape[2]))\n",
    "# We use all training data and validate on all test data\n",
    "print(X_train.shape)\n",
    "print(X_test.shape)\n",
    "print(y_train.shape)\n",
    "print(y_test.shape)"
   ]
  },
  {
   "cell_type": "code",
   "execution_count": 123,
   "metadata": {
    "ExecuteTime": {
     "end_time": "2020-01-21T06:25:07.169587Z",
     "start_time": "2020-01-21T06:25:07.161609Z"
    }
   },
   "outputs": [],
   "source": [
    "def mlp_model():\n",
    "    model = Sequential()\n",
    "    \n",
    "    model.add(Dense(50, input_shape = (784, ), kernel_initializer='he_normal'))\n",
    "    model.add(BatchNormalization())\n",
    "    model.add(Activation('relu'))\n",
    "    model.add(Dropout(0.2))\n",
    "    model.add(Dense(50, kernel_initializer='he_normal'))\n",
    "    model.add(BatchNormalization())\n",
    "    model.add(Activation('relu'))    \n",
    "    model.add(Dropout(0.2))\n",
    "    model.add(Dense(50, kernel_initializer='he_normal'))\n",
    "    model.add(BatchNormalization())\n",
    "    model.add(Activation('relu'))\n",
    "    model.add(Dropout(0.2))\n",
    "    model.add(Dense(50, kernel_initializer='he_normal'))\n",
    "    model.add(BatchNormalization())\n",
    "    model.add(Activation('relu'))\n",
    "    model.add(Dropout(0.2))\n",
    "    model.add(Dense(10, kernel_initializer='he_normal'))\n",
    "    model.add(Activation('softmax'))\n",
    "    \n",
    "    adam = optimizers.Adam(lr = 0.001)\n",
    "    model.compile(optimizer = adam, loss = 'categorical_crossentropy', metrics = ['accuracy'])\n",
    "    \n",
    "    return model"
   ]
  },
  {
   "cell_type": "code",
   "execution_count": 127,
   "metadata": {
    "ExecuteTime": {
     "end_time": "2020-01-21T06:27:29.387041Z",
     "start_time": "2020-01-21T06:27:29.380074Z"
    }
   },
   "outputs": [],
   "source": [
    "# create 5 models to ensemble\n",
    "from keras.callbacks import LambdaCallback\n",
    "from keras.callbacks import EarlyStopping\n",
    "from keras.layers import LeakyReLU\n",
    "\n",
    "\n",
    "def lambdaf_(epoch, logs, step) : \n",
    "    if epoch % step == 0 : print(f\"{epoch} => {logs}\")                \n",
    "        \n",
    "def printepoch(step) :   \n",
    "    return LambdaCallback(on_epoch_end=lambda epoch, logs: lambdaf_(epoch, logs, step)  )\n",
    "\n",
    "model1 = KerasClassifier(build_fn = mlp_model, epochs = 3)\n",
    "model2 = KerasClassifier(build_fn = mlp_model, epochs = 3)\n",
    "model3 = KerasClassifier(build_fn = mlp_model, epochs = 3)\n",
    "model4 = KerasClassifier(build_fn = mlp_model, epochs = 3)\n",
    "model5 = KerasClassifier(build_fn = mlp_model, epochs = 3)\n",
    "\n"
   ]
  },
  {
   "cell_type": "code",
   "execution_count": 128,
   "metadata": {
    "ExecuteTime": {
     "end_time": "2020-01-21T06:27:30.956491Z",
     "start_time": "2020-01-21T06:27:30.952502Z"
    }
   },
   "outputs": [],
   "source": [
    "#ensemble_clf = VotingClassifier(estimators = [('model1', model1), ('model2', model2), ('model3', model3), ('model4', model4), ('model5', model5)], voting = 'soft')\n",
    "ensemble_clf = VotingClassifier(estimators = [('model1', model1), ('model2', model2)], voting = 'soft')"
   ]
  },
  {
   "cell_type": "code",
   "execution_count": 129,
   "metadata": {
    "ExecuteTime": {
     "end_time": "2020-01-21T06:28:23.202143Z",
     "start_time": "2020-01-21T06:27:32.010367Z"
    },
    "scrolled": true
   },
   "outputs": [
    {
     "name": "stdout",
     "output_type": "stream",
     "text": [
      "Epoch 1/3\n",
      "60000/60000 [==============================] - 8s 130us/step - loss: 0.7529 - accuracy: 0.7692\n",
      "Epoch 2/3\n",
      "60000/60000 [==============================] - 7s 119us/step - loss: 0.4344 - accuracy: 0.8745\n",
      "Epoch 3/3\n",
      "60000/60000 [==============================] - 7s 119us/step - loss: 0.3621 - accuracy: 0.8963\n",
      "Epoch 1/3\n",
      "60000/60000 [==============================] - 9s 144us/step - loss: 0.7567 - accuracy: 0.7711\n",
      "Epoch 2/3\n",
      "60000/60000 [==============================] - 8s 134us/step - loss: 0.4211 - accuracy: 0.8794\n",
      "Epoch 3/3\n",
      "60000/60000 [==============================] - 8s 137us/step - loss: 0.3534 - accuracy: 0.8996\n"
     ]
    },
    {
     "data": {
      "text/plain": [
       "VotingClassifier(estimators=[('model1',\n",
       "                              <keras.wrappers.scikit_learn.KerasClassifier object at 0x000001FB16C4B848>),\n",
       "                             ('model2',\n",
       "                              <keras.wrappers.scikit_learn.KerasClassifier object at 0x000001FB16C4B488>)],\n",
       "                 flatten_transform=True, n_jobs=None, voting='soft',\n",
       "                 weights=None)"
      ]
     },
     "execution_count": 129,
     "metadata": {},
     "output_type": "execute_result"
    }
   ],
   "source": [
    "ensemble_clf.fit(X_train, y_train)"
   ]
  },
  {
   "cell_type": "code",
   "execution_count": 130,
   "metadata": {
    "ExecuteTime": {
     "end_time": "2020-01-21T06:28:46.987472Z",
     "start_time": "2020-01-21T06:28:44.840160Z"
    }
   },
   "outputs": [],
   "source": [
    "y_pred = ensemble_clf.predict(X_test)"
   ]
  },
  {
   "cell_type": "code",
   "execution_count": 131,
   "metadata": {
    "ExecuteTime": {
     "end_time": "2020-01-21T06:28:48.589801Z",
     "start_time": "2020-01-21T06:28:48.584854Z"
    }
   },
   "outputs": [
    {
     "name": "stdout",
     "output_type": "stream",
     "text": [
      "Acc:  0.9629\n"
     ]
    }
   ],
   "source": [
    "print('Acc: ', accuracy_score(y_pred, y_test))"
   ]
  },
  {
   "cell_type": "code",
   "execution_count": null,
   "metadata": {},
   "outputs": [],
   "source": []
  }
 ],
 "metadata": {
  "kernelspec": {
   "display_name": "Python 3",
   "language": "python",
   "name": "python3"
  },
  "language_info": {
   "codemirror_mode": {
    "name": "ipython",
    "version": 3
   },
   "file_extension": ".py",
   "mimetype": "text/x-python",
   "name": "python",
   "nbconvert_exporter": "python",
   "pygments_lexer": "ipython3",
   "version": "3.7.4"
  },
  "toc": {
   "base_numbering": 1,
   "nav_menu": {},
   "number_sections": true,
   "sideBar": true,
   "skip_h1_title": false,
   "title_cell": "Table of Contents",
   "title_sidebar": "Contents",
   "toc_cell": false,
   "toc_position": {},
   "toc_section_display": true,
   "toc_window_display": false
  },
  "varInspector": {
   "cols": {
    "lenName": 16,
    "lenType": 16,
    "lenVar": 40
   },
   "kernels_config": {
    "python": {
     "delete_cmd_postfix": "",
     "delete_cmd_prefix": "del ",
     "library": "var_list.py",
     "varRefreshCmd": "print(var_dic_list())"
    },
    "r": {
     "delete_cmd_postfix": ") ",
     "delete_cmd_prefix": "rm(",
     "library": "var_list.r",
     "varRefreshCmd": "cat(var_dic_list()) "
    }
   },
   "types_to_exclude": [
    "module",
    "function",
    "builtin_function_or_method",
    "instance",
    "_Feature"
   ],
   "window_display": false
  },
  "widgets": {
   "application/vnd.jupyter.widget-state+json": {
    "state": {},
    "version_major": 2,
    "version_minor": 0
   }
  }
 },
 "nbformat": 4,
 "nbformat_minor": 2
}
